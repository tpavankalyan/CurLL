{
 "cells": [
  {
   "cell_type": "code",
   "execution_count": 1,
   "id": "a4268858",
   "metadata": {},
   "outputs": [],
   "source": [
    "import pandas as pd\n",
    "import networkx as nx\n",
    "import pickle\n",
    "import json\n",
    "from itertools import combinations"
   ]
  },
  {
   "cell_type": "code",
   "execution_count": 2,
   "id": "151a2206",
   "metadata": {},
   "outputs": [],
   "source": [
    "DG = nx.DiGraph()\n",
    "p1 = \"/datadrive/pavan/az_storage/data_unorganized/skill_graph/age_0_5.csv\"\n",
    "p2 = \"/datadrive/pavan/az_storage/data_unorganized/skill_graph/age_5_11.csv\"\n",
    "p3 = \"/datadrive/pavan/az_storage/data_unorganized/skill_graph/age_11_14.csv\""
   ]
  },
  {
   "cell_type": "markdown",
   "id": "dd7a9f52",
   "metadata": {},
   "source": [
    "## Indicator graph"
   ]
  },
  {
   "cell_type": "code",
   "execution_count": 3,
   "id": "7c9db058",
   "metadata": {},
   "outputs": [],
   "source": [
    "dd = pd.read_csv(p1, encoding=\"utf-8\")\n",
    "dd.columns = dd.columns.str.strip()\n",
    "all_nan_rows = dd[dd.isna().all(axis=1)]\n",
    "dd.ffill(inplace=True)\n",
    "\n",
    "i=0\n",
    "df = dd\n",
    "for skill in df[\"Skills\"].unique():\n",
    "    skill_df = df[df[\"Skills\"] == skill]\n",
    "    for subskill in skill_df[\"Sub-skills\"].unique():\n",
    "        subskill_df = skill_df[skill_df[\"Sub-skills\"] == subskill]\n",
    "        for goal in subskill_df[\"Goals\"].unique():\n",
    "            goal_df = subskill_df[subskill_df[\"Goals\"] == goal]\n",
    "            for stage in [\"stage-0\"]:\n",
    "                for indicator in goal_df[stage].unique():\n",
    "                    lab = [int(stage.split(\"-\")[1])]\n",
    "                    DG.add_node(f\"i{i}\", label=indicator, age_group=\"0-5\", skill=skill,\n",
    "                        subskill=subskill, goal=goal, stage=lab[-1], \n",
    "                        modality_textual=None, perspective=None, require_multimodal_context=None,\n",
    "                        embodied=None)\n",
    "                    i += 1\n",
    "\n",
    "dd = pd.read_csv(p2, encoding=\"utf-8\")\n",
    "dd.columns = dd.columns.str.strip()\n",
    "all_nan_rows = dd[dd.isna().all(axis=1)]\n",
    "dd.ffill(inplace=True)\n",
    "\n",
    "df = dd.iloc[:298, :]\n",
    "for skill in df[\"Skills\"].unique():\n",
    "    skill_df = df[df[\"Skills\"] == skill]\n",
    "    for subskill in skill_df[\"Sub-skills\"].unique():\n",
    "        subskill_df = skill_df[skill_df[\"Sub-skills\"] == subskill]\n",
    "        for goal in subskill_df[\"Goals\"].unique():\n",
    "            goal_df = subskill_df[subskill_df[\"Goals\"] == goal]\n",
    "            for stage in [\"stage-1\", \"stage-2\", \"stage-3\", \"stage-4\", \"stage-5\", \"stage-6\"]:\n",
    "                for indicator in goal_df[stage].unique():\n",
    "                    lab = [int(stage.split(\"-\")[1])]\n",
    "                    DG.add_node(f\"i{i}\", label=indicator, age_group=\"5-11\", skill=skill,\n",
    "                        subskill=subskill, goal=goal, stage=lab[-1], \n",
    "                        modality_textual=None, perspective=None, require_multimodal_context=None,\n",
    "                        embodied=None)\n",
    "                    i += 1\n",
    "\n",
    "ds = dd.iloc[298:381, :]\n",
    "for skill in ds[\"Skills\"].unique():\n",
    "    skill_ds = ds[ds[\"Skills\"] == skill]\n",
    "    for subskill in skill_ds[\"Sub-skills\"].unique():\n",
    "        subskill_ds = skill_ds[skill_ds[\"Sub-skills\"] == subskill]\n",
    "        for goal in subskill_ds[\"Goals\"].unique():\n",
    "            goal_ds = subskill_ds[subskill_ds[\"Goals\"] == goal]\n",
    "            for stage in [\"stage-1\", \"stage-4\"]:\n",
    "                for indicator in goal_ds[stage].unique():\n",
    "                    if stage == \"stage-1\":\n",
    "                        lab = [3]\n",
    "                    else:\n",
    "                        lab = [6]\n",
    "                    DG.add_node(f\"i{i}\", label=indicator, age_group=\"5-11\", skill=skill,\n",
    "                        subskill=subskill, goal=goal, stage=lab[-1], \n",
    "                        modality_textual=None, perspective=None, require_multimodal_context=None,\n",
    "                        embodied=None)\n",
    "                    i += 1\n",
    "\n",
    "dm = dd.iloc[381:400, :]\n",
    "for skill in dm[\"Skills\"].unique():\n",
    "    skill_dm = dm[dm[\"Skills\"] == skill]\n",
    "    for subskill in skill_dm[\"Sub-skills\"].unique():\n",
    "        subskill_dm = skill_dm[skill_dm[\"Sub-skills\"] == subskill]\n",
    "        for goal in subskill_dm[\"Goals\"].unique():  \n",
    "            goal_dm = subskill_dm[subskill_dm[\"Goals\"] == goal]\n",
    "            for stage in [\"stage-1\", \"stage-2\", \"stage-3\", \"stage-5\"]:\n",
    "                for indicator in goal_dm[stage].unique():\n",
    "                    if stage == \"stage-5\":\n",
    "                        DG.add_node(f\"i{i}\", label=indicator, age_group=\"5-11\", skill=skill,\n",
    "                        subskill=subskill, goal=goal, stage=6, \n",
    "                        modality_textual=None, perspective=None, require_multimodal_context=None,\n",
    "                        embodied=None)\n",
    "                    elif stage == \"stage-3\":\n",
    "                        DG.add_node(f\"i{i}\", label=indicator, age_group=\"5-11\", skill=skill,\n",
    "                        subskill=subskill, goal=goal, stage=4, \n",
    "                        modality_textual=None, perspective=None, require_multimodal_context=None,\n",
    "                        embodied=None)\n",
    "                    else:\n",
    "                        lab = [int(stage.split(\"-\")[1])]\n",
    "                        DG.add_node(f\"i{i}\", label=indicator, age_group=\"5-11\", skill=skill,\n",
    "                        subskill=subskill, goal=goal, stage=lab[-1], \n",
    "                        modality_textual=None, perspective=None, require_multimodal_context=None,\n",
    "                        embodied=None)\n",
    "                    i += 1\n",
    "\n",
    "dn = dd.iloc[400:, :]\n",
    "for skill in dn[\"Skills\"].unique():\n",
    "    skill_dn = dn[dn[\"Skills\"] == skill]\n",
    "    for subskill in skill_dn[\"Sub-skills\"].unique():\n",
    "        subskill_dn = skill_dn[skill_dn[\"Sub-skills\"] == subskill]\n",
    "        for goal in subskill_dn[\"Goals\"].unique():\n",
    "            goal_dn = subskill_dn[subskill_dn[\"Goals\"] == goal]\n",
    "            for stage in [\"stage-1\", \"stage-2\", \"stage-3\", \"stage-4\", \"stage-5\", \"stage-6\"]:\n",
    "                for indicator in goal_dn[stage].unique():\n",
    "                    lab = [int(stage.split(\"-\")[1])]\n",
    "                    DG.add_node(f\"i{i}\", label=indicator, age_group=\"5-11\", skill=skill,\n",
    "                    subskill=subskill, goal=goal, stage=lab[-1], \n",
    "                    modality_textual=None, perspective=None, require_multimodal_context=None,\n",
    "                    embodied=None)\n",
    "                    i += 1\n",
    "\n",
    "dd = pd.read_csv(p3, encoding=\"utf-8\")\n",
    "dd.columns = dd.columns.str.strip()\n",
    "all_nan_rows = dd[dd.isna().all(axis=1)]\n",
    "dd.ffill(inplace=True)\n",
    "\n",
    "df = dd.iloc[:220,:]\n",
    "for skill in df[\"Skills\"].unique():\n",
    "    skill_df = df[df[\"Skills\"] == skill]\n",
    "    for subskill in skill_df[\"Sub-skills\"].unique():\n",
    "        subskill_df = skill_df[skill_df[\"Sub-skills\"] == subskill]\n",
    "        for goal in subskill_df[\"Goal\"].unique():\n",
    "            goal_df = subskill_df[subskill_df[\"Goal\"] == goal]\n",
    "            for stage in [\"Stage-7\", \"Stage-8\", \"Stage-9\"]:\n",
    "                for indicator in goal_df[stage].unique():\n",
    "                    lab = [int(stage.split(\"-\")[1])]\n",
    "                    DG.add_node(f\"i{i}\", label=indicator, age_group=\"11-14\", skill=skill,\n",
    "                    subskill=subskill, goal=goal, stage=lab[-1], \n",
    "                    modality_textual=None, perspective=None, require_multimodal_context=None,\n",
    "                    embodied=None)\n",
    "                    i += 1\n",
    "\n",
    "ds = dd.iloc[220:239,:]\n",
    "for skill in ds[\"Skills\"].unique():\n",
    "    skill_ds = ds[ds[\"Skills\"] == skill]\n",
    "    for subskill in skill_ds[\"Sub-skills\"].unique():\n",
    "        subskill_ds = skill_ds[skill_ds[\"Sub-skills\"] == subskill]\n",
    "        for goal in subskill_ds[\"Goal\"].unique():\n",
    "            goal_ds = subskill_ds[subskill_ds[\"Goal\"] == goal]\n",
    "            for stage in [\"Stage-7\", \"Stage-9\"]:\n",
    "                for indicator in goal_ds[stage].unique():\n",
    "                    if stage == \"Stage-7\":\n",
    "                        lab = [7,8]\n",
    "                        DG.add_node(f\"i{i}\", label=indicator, age_group=\"11-14\", skill=skill,\n",
    "                        subskill=subskill, goal=goal, stage=lab[-1], \n",
    "                        modality_textual=None, perspective=None, require_multimodal_context=None,\n",
    "                        embodied=None)\n",
    "                    else:\n",
    "                        DG.add_node(f\"i{i}\", label=indicator, age_group=\"11-14\", skill=skill,\n",
    "                        subskill=subskill, goal=goal, stage=9, \n",
    "                        modality_textual=None, perspective=None, require_multimodal_context=None,\n",
    "                        embodied=None)\n",
    "                    i += 1\n",
    "\n",
    "ds = dd.iloc[239:320,:]\n",
    "for skill in ds[\"Skills\"].unique():\n",
    "    skill_ds = ds[ds[\"Skills\"] == skill]\n",
    "    for subskill in skill_ds[\"Sub-skills\"].unique():\n",
    "        subskill_ds = skill_ds[skill_ds[\"Sub-skills\"] == subskill]\n",
    "        for goal in subskill_ds[\"Goal\"].unique():\n",
    "            goal_ds = subskill_ds[subskill_ds[\"Goal\"] == goal]\n",
    "            for stage in [\"Stage-7\"]:\n",
    "                for indicator in goal_ds[stage].unique():\n",
    "                    if stage == \"Stage-7\":\n",
    "                        DG.add_node(f\"i{i}\", label=indicator, age_group=\"11-14\", skill=skill,\n",
    "                        subskill=subskill, goal=goal, stage=9, \n",
    "                        modality_textual=None, perspective=None, require_multimodal_context=None,\n",
    "                        embodied=None)\n",
    "                    i += 1\n",
    "\n",
    "df = dd.iloc[320:,:]\n",
    "for skill in df[\"Skills\"].unique():\n",
    "    skill_df = df[df[\"Skills\"] == skill]\n",
    "    for subskill in skill_df[\"Sub-skills\"].unique():\n",
    "        subskill_df = skill_df[skill_df[\"Sub-skills\"] == subskill]\n",
    "        for goal in subskill_df[\"Goal\"].unique():\n",
    "            goal_df = subskill_df[subskill_df[\"Goal\"] == goal]\n",
    "            for stage in [\"Stage-7\", \"Stage-8\", \"Stage-9\"]:\n",
    "                for indicator in goal_df[stage].unique():\n",
    "                    lab = [int(stage.split(\"-\")[1])]\n",
    "                    DG.add_node(f\"i{i}\", label=indicator, age_group=\"11-14\", skill=skill,\n",
    "                        subskill=subskill, goal=goal, stage=lab[-1], \n",
    "                        modality_textual=None, perspective=None, require_multimodal_context=None,\n",
    "                        embodied=None)\n",
    "                    i += 1     "
   ]
  },
  {
   "cell_type": "code",
   "execution_count": 4,
   "id": "6e90fed6",
   "metadata": {},
   "outputs": [
    {
     "data": {
      "text/plain": [
       "(2776, 0)"
      ]
     },
     "execution_count": 4,
     "metadata": {},
     "output_type": "execute_result"
    }
   ],
   "source": [
    "len(DG.nodes), len(DG.edges)"
   ]
  },
  {
   "cell_type": "code",
   "execution_count": 5,
   "id": "a3ddeffe",
   "metadata": {},
   "outputs": [
    {
     "name": "stdout",
     "output_type": "stream",
     "text": [
      "('i0', {'label': 'Uses verbal and non-verbal signals appropriately to acknowledge the comments or questions of others.', 'age_group': '0-5', 'skill': 'Language and Communication', 'subskill': 'Attending and Understanding', 'goal': 'Child attends to communication and language from others.', 'stage': 0, 'modality_textual': None, 'perspective': None, 'require_multimodal_context': None, 'embodied': None})\n"
     ]
    }
   ],
   "source": [
    "for n in DG.nodes(data=True):\n",
    "    print(n)\n",
    "    break"
   ]
  },
  {
   "cell_type": "code",
   "execution_count": 6,
   "id": "2425f6bc",
   "metadata": {},
   "outputs": [],
   "source": [
    "# save the graph\n",
    "with open(\"/datadrive/pavan/az_storage/data_unorganized/skill_graph/version2/indicator_graph.pkl\", \"wb\") as f:\n",
    "    pickle.dump(DG, f)"
   ]
  },
  {
   "cell_type": "code",
   "execution_count": 7,
   "id": "fd04598f",
   "metadata": {},
   "outputs": [
    {
     "name": "stdout",
     "output_type": "stream",
     "text": [
      "3851700\n"
     ]
    }
   ],
   "source": [
    "llm_data = [{\"id\":n, **d} for n, d in DG.nodes(data=True)]\n",
    "perm_llm_data = list(combinations(llm_data, 2))\n",
    "print(len(perm_llm_data))\n",
    "\n",
    "seed_data = []\n",
    "for i in range(len(perm_llm_data)):\n",
    "    seed_data.append({\n",
    "                \"id_1\": perm_llm_data[i][0][\"id\"],\n",
    "                \"id_2\": perm_llm_data[i][1][\"id\"],\n",
    "                \"label_1\": perm_llm_data[i][0][\"label\"],\n",
    "                \"label_2\": perm_llm_data[i][1][\"label\"],\n",
    "                \"age_group_1\": perm_llm_data[i][0][\"age_group\"],\n",
    "                \"age_group_2\": perm_llm_data[i][1][\"age_group\"],\n",
    "                \"skill_1\": perm_llm_data[i][0][\"skill\"],\n",
    "                \"skill_2\": perm_llm_data[i][1][\"skill\"],\n",
    "                \"subskill_1\": perm_llm_data[i][0][\"subskill\"],\n",
    "                \"subskill_2\": perm_llm_data[i][1][\"subskill\"],\n",
    "                \"goal_1\": perm_llm_data[i][0][\"goal\"],\n",
    "                \"goal_2\": perm_llm_data[i][1][\"goal\"],\n",
    "                \"stage_1\": perm_llm_data[i][0][\"stage\"],\n",
    "                \"stage_2\": perm_llm_data[i][1][\"stage\"],\n",
    "            })"
   ]
  },
  {
   "cell_type": "code",
   "execution_count": 9,
   "id": "6700f5e4",
   "metadata": {},
   "outputs": [],
   "source": [
    "chunk_size = len(seed_data) // 10\n",
    "chunks = [seed_data[i:i + chunk_size] for i in range(0, len(seed_data), chunk_size)]\n",
    "# save each chunk to a separate file\n",
    "for i, chunk in enumerate(chunks):\n",
    "    with open(f\"/datadrive/pavan/az_storage/data_unorganized/skill_graph/version2/edge_seed_{i}.jsonl\", \"w\") as f:\n",
    "        json.dump(chunk, f, indent=4)"
   ]
  },
  {
   "cell_type": "markdown",
   "id": "9d20bd7a",
   "metadata": {},
   "source": [
    "## Check bad nodes from previous graph"
   ]
  },
  {
   "cell_type": "code",
   "execution_count": 11,
   "id": "ccffb960",
   "metadata": {},
   "outputs": [],
   "source": [
    "# load the graph from pkl\n",
    "with open(\"/datadrive/pavan/az_storage/data_unorganized/skill_graph/skill_graph_with_dependency.pkl\", \"rb\") as f:\n",
    "    DG_0 = pickle.load(f)"
   ]
  },
  {
   "cell_type": "code",
   "execution_count": 14,
   "id": "b51ec6ee",
   "metadata": {},
   "outputs": [],
   "source": [
    "bad_nodes = []\n",
    "for node in DG_0.nodes():\n",
    "    stage_list = DG_0.nodes[node].get('stage_labels', [])\n",
    "    if not stage_list:\n",
    "        continue\n",
    "\n",
    "    node_stage = stage_list[-1]  # last stage label\n",
    "    if node_stage == 9 or node_stage == 8:\n",
    "        for neighbor in DG_0.successors(node):\n",
    "            neighbor_stage_list = DG_0.nodes[neighbor].get('stage_labels', [])\n",
    "            if not neighbor_stage_list:\n",
    "                continue\n",
    "            neighbor_stage = neighbor_stage_list[-1]\n",
    "            if neighbor_stage == 0:\n",
    "                bad_nodes.append((node, neighbor))"
   ]
  },
  {
   "cell_type": "code",
   "execution_count": 25,
   "id": "3f2a39fb",
   "metadata": {},
   "outputs": [
    {
     "data": {
      "text/plain": [
       "{'label': 'Read aloud with confidence, accuracy and style.',\n",
       " 'type': 'indicator',\n",
       " 'age_group': '11-14',\n",
       " 'modality_textual': None,\n",
       " 'perspective': None,\n",
       " 'require_multimodal_context': None,\n",
       " 'embodied': None,\n",
       " 'stage_labels': [9]}"
      ]
     },
     "execution_count": 25,
     "metadata": {},
     "output_type": "execute_result"
    }
   ],
   "source": [
    "DG_0.nodes['s20_ss2_g3_i10']"
   ]
  },
  {
   "cell_type": "code",
   "execution_count": 26,
   "id": "2ae0a7eb",
   "metadata": {},
   "outputs": [],
   "source": [
    "label_dict = {}\n",
    "for n,d in DG.nodes(data=True):\n",
    "    label_dict[d['label']] = n\n",
    "\n",
    "prompt_labels = []\n",
    "for bad in bad_nodes:\n",
    "    id1 = label_dict[DG_0.nodes[bad[0]]['label']]\n",
    "    id2 = label_dict[DG_0.nodes[bad[1]]['label']]\n",
    "    prompt_labels.append({\n",
    "        \"id_1\": id1,\n",
    "        \"id_2\": id2,\n",
    "        \"label_1\": DG.nodes[id1]['label'],\n",
    "        \"label_2\": DG.nodes[id2]['label'],\n",
    "        \"age_group_1\": DG.nodes[id1]['age_group'],\n",
    "        \"age_group_2\": DG.nodes[id2]['age_group'],\n",
    "        \"skill_1\": DG.nodes[id1]['skill'],\n",
    "        \"skill_2\": DG.nodes[id2]['skill'],\n",
    "        \"subskill_1\": DG.nodes[id1]['subskill'],\n",
    "        \"subskill_2\": DG.nodes[id2]['subskill'],\n",
    "        \"goal_1\": DG.nodes[id1]['goal'],\n",
    "        \"goal_2\": DG.nodes[id2]['goal'],\n",
    "        \"stage_1\": DG.nodes[id1]['stage'],\n",
    "        \"stage_2\": DG.nodes[id2]['stage'],\n",
    "    })"
   ]
  },
  {
   "cell_type": "code",
   "execution_count": 27,
   "id": "8a463c3d",
   "metadata": {},
   "outputs": [
    {
     "data": {
      "text/plain": [
       "(384,\n",
       " {'id_1': 'i1894',\n",
       "  'id_2': 'i84',\n",
       "  'label_1': 'Understand that brackets, indices (square and cube roots) and operations follow a particular order.',\n",
       "  'label_2': 'Analyzes and interprets data and summarizes results of investigation.',\n",
       "  'age_group_1': '11-14',\n",
       "  'age_group_2': '0-5',\n",
       "  'skill_1': 'Mathematics',\n",
       "  'skill_2': 'Scientific Reasoning',\n",
       "  'subskill_1': 'Number',\n",
       "  'subskill_2': 'Reasoning and Problem-Solving',\n",
       "  'goal_1': 'Integers, powers and roots',\n",
       "  'goal_2': 'Child analyzes results, draws conclusions, and communicates results',\n",
       "  'stage_1': 8,\n",
       "  'stage_2': 0})"
      ]
     },
     "execution_count": 27,
     "metadata": {},
     "output_type": "execute_result"
    }
   ],
   "source": [
    "len(prompt_labels), prompt_labels[0]"
   ]
  },
  {
   "cell_type": "code",
   "execution_count": 28,
   "id": "0ba2254f",
   "metadata": {},
   "outputs": [],
   "source": [
    "with open(f\"/datadrive/pavan/az_storage/data_unorganized/skill_graph/version2/bad_edge_seed.jsonl\", \"w\") as f:\n",
    "    json.dump(prompt_labels, f, indent=4)"
   ]
  },
  {
   "cell_type": "code",
   "execution_count": null,
   "id": "6ea1203a",
   "metadata": {},
   "outputs": [],
   "source": []
  },
  {
   "cell_type": "code",
   "execution_count": null,
   "id": "eb24c448",
   "metadata": {},
   "outputs": [],
   "source": []
  }
 ],
 "metadata": {
  "kernelspec": {
   "display_name": "cl_env",
   "language": "python",
   "name": "python3"
  },
  "language_info": {
   "codemirror_mode": {
    "name": "ipython",
    "version": 3
   },
   "file_extension": ".py",
   "mimetype": "text/x-python",
   "name": "python",
   "nbconvert_exporter": "python",
   "pygments_lexer": "ipython3",
   "version": "3.12.8"
  }
 },
 "nbformat": 4,
 "nbformat_minor": 5
}
