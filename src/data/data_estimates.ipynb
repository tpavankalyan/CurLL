{
 "cells": [
  {
   "cell_type": "code",
   "execution_count": 2,
   "id": "c6cb89fb",
   "metadata": {},
   "outputs": [],
   "source": [
    "import networkx as nx\n",
    "import pickle"
   ]
  },
  {
   "cell_type": "markdown",
   "id": "0f8660aa",
   "metadata": {},
   "source": [
    "## Pre-Generation"
   ]
  },
  {
   "cell_type": "code",
   "execution_count": 3,
   "id": "706e7e18",
   "metadata": {},
   "outputs": [],
   "source": [
    "# load the graph from pkl\n",
    "with open(\"/datadrive/pavan/az_storage/data_unorganized/skill_graph/version2/indicator_graph_edges.pkl\", \"rb\") as f:\n",
    "    DG = pickle.load(f)"
   ]
  },
  {
   "cell_type": "code",
   "execution_count": 5,
   "id": "1b859acc",
   "metadata": {},
   "outputs": [],
   "source": [
    "stats_per_stage = {}\n",
    "for node in DG.nodes():\n",
    "    stage = DG.nodes[node][\"stage\"]\n",
    "    age_group = DG.nodes[node][\"age_group\"]\n",
    "    skill = DG.nodes[node][\"skill\"]\n",
    "    stats_per_stage[age_group] = stats_per_stage.get(age_group, {})\n",
    "    stats_per_stage[age_group][stage] = stats_per_stage[age_group].get(stage, {})\n",
    "    stats_per_stage[age_group][stage][skill] = stats_per_stage[age_group][stage].get(skill, 0) + 1\n",
    "    "
   ]
  },
  {
   "cell_type": "code",
   "execution_count": 6,
   "id": "94fb2cd4",
   "metadata": {},
   "outputs": [
    {
     "data": {
      "text/plain": [
       "{'0-5': {0: {'Language and Communication': 24,\n",
       "   'Literacy': 20,\n",
       "   'Mathematics Development': 26,\n",
       "   'Scientific Reasoning': 18,\n",
       "   'Perceptual, Motor, and Physical Development': 17,\n",
       "   'Approaches to Learning': 41,\n",
       "   'Social and Emotional Development': 36}},\n",
       " '5-11': {1: {'English': 90,\n",
       "   'Mathematics': 37,\n",
       "   'Science': 37,\n",
       "   'Computing': 28,\n",
       "   'Global Perspectives': 18,\n",
       "   'Digital Literacy': 11},\n",
       "  2: {'English': 99,\n",
       "   'Mathematics': 48,\n",
       "   'Science': 42,\n",
       "   'Computing': 31,\n",
       "   'Global Perspectives': 18,\n",
       "   'Digital Literacy': 13},\n",
       "  3: {'English': 102,\n",
       "   'Mathematics': 53,\n",
       "   'Science': 49,\n",
       "   'Computing': 36,\n",
       "   'Humanities': 75,\n",
       "   'Digital Literacy': 14},\n",
       "  4: {'English': 106,\n",
       "   'Mathematics': 47,\n",
       "   'Science': 61,\n",
       "   'Computing': 39,\n",
       "   'Global Perspectives': 18,\n",
       "   'Digital Literacy': 16},\n",
       "  5: {'English': 93,\n",
       "   'Mathematics': 52,\n",
       "   'Science': 56,\n",
       "   'Computing': 40,\n",
       "   'Digital Literacy': 15},\n",
       "  6: {'English': 94,\n",
       "   'Mathematics': 55,\n",
       "   'Science': 57,\n",
       "   'Computing': 40,\n",
       "   'Humanities': 82,\n",
       "   'Global Perspectives': 18,\n",
       "   'Digital Literacy': 16}},\n",
       " '11-14': {7: {'Mathematics': 63,\n",
       "   'Science': 72,\n",
       "   'Computing': 42,\n",
       "   'Digital Literacy': 14,\n",
       "   'English': 70},\n",
       "  8: {'Mathematics': 61,\n",
       "   'Science': 70,\n",
       "   'Computing': 43,\n",
       "   'Digital Literacy': 15,\n",
       "   'Global Perspectives': 18,\n",
       "   'English': 71},\n",
       "  9: {'Mathematics': 55,\n",
       "   'Science': 70,\n",
       "   'Computing': 45,\n",
       "   'Digital Literacy': 15,\n",
       "   'Global Perspectives': 18,\n",
       "   'Humanities': 79,\n",
       "   'English': 67}}}"
      ]
     },
     "execution_count": 6,
     "metadata": {},
     "output_type": "execute_result"
    }
   ],
   "source": [
    "stats_per_stage"
   ]
  },
  {
   "cell_type": "code",
   "execution_count": null,
   "id": "cb9c5a88",
   "metadata": {},
   "outputs": [],
   "source": []
  }
 ],
 "metadata": {
  "kernelspec": {
   "display_name": "cl_env",
   "language": "python",
   "name": "python3"
  },
  "language_info": {
   "codemirror_mode": {
    "name": "ipython",
    "version": 3
   },
   "file_extension": ".py",
   "mimetype": "text/x-python",
   "name": "python",
   "nbconvert_exporter": "python",
   "pygments_lexer": "ipython3",
   "version": "3.12.8"
  }
 },
 "nbformat": 4,
 "nbformat_minor": 5
}
