{
 "cells": [
  {
   "cell_type": "code",
   "execution_count": 1,
   "id": "7221496f",
   "metadata": {},
   "outputs": [],
   "source": [
    "import pandas as pd\n",
    "import networkx as nx"
   ]
  },
  {
   "cell_type": "code",
   "execution_count": 2,
   "id": "041d573f",
   "metadata": {},
   "outputs": [],
   "source": [
    "DG = nx.DiGraph()"
   ]
  },
  {
   "cell_type": "code",
   "execution_count": 3,
   "id": "0f92e7a1",
   "metadata": {},
   "outputs": [],
   "source": [
    "dd = pd.read_csv(\"/datadrive/pavan/CurLL/data/age_0_5.csv\", encoding=\"utf-8\")\n",
    "dd.columns = dd.columns.str.strip()\n",
    "all_nan_rows = dd[dd.isna().all(axis=1)]\n",
    "dd.ffill(inplace=True)"
   ]
  },
  {
   "cell_type": "code",
   "execution_count": 4,
   "id": "66c750ff",
   "metadata": {},
   "outputs": [],
   "source": [
    "s=0\n",
    "df = dd\n",
    "for skill in df[\"Skills\"].unique():\n",
    "    skill_df = df[df[\"Skills\"] == skill]\n",
    "    DG.add_node(f\"s{s}\", label=skill, type=\"skill\", age_group=\"0-5\", \n",
    "                modality_textual=None, perspective=None, require_multimodal_context=None,\n",
    "                embodied=None, stage_labels=[])\n",
    "    ss = 0\n",
    "    for subskill in skill_df[\"Sub-skills\"].unique():\n",
    "        g = 0\n",
    "        subskill_df = skill_df[skill_df[\"Sub-skills\"] == subskill]\n",
    "        DG.add_node(f\"s{s}_ss{ss}\", label=subskill, type=\"sub-skill\", age_group=\"0-5\", \n",
    "                modality_textual=None, perspective=None, require_multimodal_context=None,\n",
    "                embodied=None, stage_labels=[])\n",
    "        DG.add_edge(f\"s{s}_ss{ss}\", f\"s{s}\", type=\"hierarchy\", label=\"is part of\")\n",
    "        for goal in subskill_df[\"Goals\"].unique():\n",
    "            i = 0\n",
    "            DG.add_node(f\"s{s}_ss{ss}_g{g}\", label=goal, type=\"goal\", age_group=\"0-5\", \n",
    "                modality_textual=None, perspective=None, require_multimodal_context=None,\n",
    "                embodied=None, stage_labels=[])\n",
    "            DG.add_edge(f\"s{s}_ss{ss}_g{g}\", f\"s{s}_ss{ss}\", type=\"hierarchy\", label=\"is part of\")\n",
    "            goal_df = subskill_df[subskill_df[\"Goals\"] == goal]\n",
    "            for stage in [\"stage-0\"]:\n",
    "                for indicator in goal_df[stage].unique():\n",
    "                    DG.add_node(f\"s{s}_ss{ss}_g{g}_i{i}\", label=indicator, type=\"indicator\", age_group=\"0-5\", \n",
    "                        modality_textual=None, perspective=None, require_multimodal_context=None,\n",
    "                        embodied=None, stage_labels=[int(stage.split(\"-\")[1])])\n",
    "                    DG.add_edge(f\"s{s}_ss{ss}_g{g}_i{i}\", f\"s{s}_ss{ss}_g{g}\", type=\"hierarchy\", label=\"is part of\")\n",
    "                    i += 1\n",
    "            g += 1\n",
    "        ss += 1\n",
    "    s += 1    "
   ]
  },
  {
   "cell_type": "code",
   "execution_count": 8,
   "id": "eaea8b68",
   "metadata": {},
   "outputs": [],
   "source": [
    "dd = pd.read_csv(\"/datadrive/pavan/CurLL/data/age_5_11.csv\", encoding=\"utf-8\")\n",
    "dd.columns = dd.columns.str.strip()\n",
    "all_nan_rows = dd[dd.isna().all(axis=1)]\n",
    "dd.ffill(inplace=True)"
   ]
  },
  {
   "cell_type": "code",
   "execution_count": 11,
   "id": "7ab5542e",
   "metadata": {},
   "outputs": [],
   "source": [
    "df = dd.iloc[:298, :]\n",
    "for skill in df[\"Skills\"].unique():\n",
    "    skill_df = df[df[\"Skills\"] == skill]\n",
    "    DG.add_node(f\"s{s}\", label=skill, type=\"skill\", age_group=\"5-11\", \n",
    "                modality_textual=None, perspective=None, require_multimodal_context=None,\n",
    "                embodied=None, stage_labels=[])\n",
    "    ss = 0\n",
    "    for subskill in skill_df[\"Sub-skills\"].unique():\n",
    "        g = 0\n",
    "        subskill_df = skill_df[skill_df[\"Sub-skills\"] == subskill]\n",
    "        DG.add_node(f\"s{s}_ss{ss}\", label=subskill, type=\"sub-skill\", age_group=\"5-11\", \n",
    "                modality_textual=None, perspective=None, require_multimodal_context=None,\n",
    "                embodied=None, stage_labels=[])\n",
    "        DG.add_edge(f\"s{s}_ss{ss}\", f\"s{s}\", type=\"hierarchy\", label=\"is part of\")\n",
    "        for goal in subskill_df[\"Goals\"].unique():\n",
    "            i = 0\n",
    "            DG.add_node(f\"s{s}_ss{ss}_g{g}\", label=goal, type=\"goal\", age_group=\"5-11\", \n",
    "                modality_textual=None, perspective=None, require_multimodal_context=None,\n",
    "                embodied=None, stage_labels=[])\n",
    "            DG.add_edge(f\"s{s}_ss{ss}_g{g}\", f\"s{s}_ss{ss}\", type=\"hierarchy\", label=\"is part of\")\n",
    "            goal_df = subskill_df[subskill_df[\"Goals\"] == goal]\n",
    "            for stage in [\"stage-1\", \"stage-2\", \"stage-3\", \"stage-4\", \"stage-5\", \"stage-6\"]:\n",
    "                for indicator in goal_df[stage].unique():\n",
    "                    DG.add_node(f\"s{s}_ss{ss}_g{g}_i{i}\", label=indicator, type=\"indicator\", age_group=\"5-11\", \n",
    "                        modality_textual=None, perspective=None, require_multimodal_context=None,\n",
    "                        embodied=None, stage_labels=[int(stage.split(\"-\")[1])])\n",
    "                    DG.add_edge(f\"s{s}_ss{ss}_g{g}_i{i}\", f\"s{s}_ss{ss}_g{g}\", type=\"hierarchy\", label=\"is part of\")\n",
    "                    i += 1\n",
    "            g += 1\n",
    "        ss += 1\n",
    "    s += 1    "
   ]
  },
  {
   "cell_type": "code",
   "execution_count": 13,
   "id": "2214988f",
   "metadata": {},
   "outputs": [],
   "source": [
    "ds = dd.iloc[298:381, :]\n",
    "for skill in ds[\"Skills\"].unique():\n",
    "    skill_ds = ds[ds[\"Skills\"] == skill]\n",
    "    DG.add_node(f\"s{s}\", label=skill, type=\"skill\", age_group=\"5-11\", \n",
    "                modality_textual=None, perspective=None, require_multimodal_context=None,\n",
    "                embodied=None, stage_labels=[])\n",
    "    ss = 0\n",
    "    for subskill in skill_ds[\"Sub-skills\"].unique():\n",
    "        g = 0\n",
    "        subskill_ds = skill_ds[skill_ds[\"Sub-skills\"] == subskill]\n",
    "        DG.add_node(f\"s{s}_ss{ss}\", label=subskill, type=\"sub-skill\", age_group=\"5-11\", \n",
    "                modality_textual=None, perspective=None, require_multimodal_context=None,\n",
    "                embodied=None, stage_labels=[])\n",
    "        DG.add_edge(f\"s{s}_ss{ss}\", f\"s{s}\", type=\"hierarchy\", label=\"is part of\")\n",
    "        for goal in subskill_ds[\"Goals\"].unique():\n",
    "            i = 0\n",
    "            DG.add_node(f\"s{s}_ss{ss}_g{g}\", label=goal, type=\"goal\", age_group=\"5-11\", \n",
    "                modality_textual=None, perspective=None, require_multimodal_context=None,\n",
    "                embodied=None, stage_labels=[])\n",
    "            DG.add_edge(f\"s{s}_ss{ss}_g{g}\", f\"s{s}_ss{ss}\", type=\"hierarchy\", label=\"is part of\")\n",
    "            goal_ds = subskill_ds[subskill_ds[\"Goals\"] == goal]\n",
    "            for stage in [\"stage-1\", \"stage-4\"]:\n",
    "                for indicator in goal_ds[stage].unique():\n",
    "                    if stage == \"stage-1\":\n",
    "                        DG.add_node(f\"s{s}_ss{ss}_g{g}_i{i}\", label=indicator, type=\"indicator\", age_group=\"5-11\", \n",
    "                            modality_textual=None, perspective=None, require_multimodal_context=None,\n",
    "                            embodied=None, stage_labels=[1,2,3])\n",
    "                    else:\n",
    "                        DG.add_node(f\"s{s}_ss{ss}_g{g}_i{i}\", label=indicator, type=\"indicator\", age_group=\"5-11\", \n",
    "                            modality_textual=None, perspective=None, require_multimodal_context=None,\n",
    "                            embodied=None, stage_labels=[4,5,6])\n",
    "                    DG.add_edge(f\"s{s}_ss{ss}_g{g}_i{i}\", f\"s{s}_ss{ss}_g{g}\", type=\"hierarchy\", label=\"is part of\")\n",
    "                    i += 1\n",
    "            g += 1\n",
    "        ss += 1\n",
    "    s += 1    \n",
    "                "
   ]
  },
  {
   "cell_type": "code",
   "execution_count": 15,
   "id": "b616158d",
   "metadata": {},
   "outputs": [],
   "source": [
    "dm = dd.iloc[381:400, :]\n",
    "for skill in dm[\"Skills\"].unique():\n",
    "    skill_dm = dm[dm[\"Skills\"] == skill]\n",
    "    DG.add_node(f\"s{s}\", label=skill, type=\"skill\", age_group=\"5-11\", \n",
    "                modality_textual=None, perspective=None, require_multimodal_context=None,\n",
    "                embodied=None, stage_labels=[])\n",
    "    ss = 0\n",
    "    for subskill in skill_dm[\"Sub-skills\"].unique():\n",
    "        g = 0\n",
    "        subskill_dm = skill_dm[skill_dm[\"Sub-skills\"] == subskill]\n",
    "        DG.add_node(f\"s{s}_ss{ss}\", label=subskill, type=\"sub-skill\", age_group=\"5-11\", \n",
    "                modality_textual=None, perspective=None, require_multimodal_context=None,\n",
    "                embodied=None, stage_labels=[])\n",
    "        DG.add_edge(f\"s{s}_ss{ss}\", f\"s{s}\", type=\"hierarchy\", label=\"is part of\")\n",
    "        for goal in subskill_dm[\"Goals\"].unique():\n",
    "            i = 0\n",
    "            DG.add_node(f\"s{s}_ss{ss}_g{g}\", label=goal, type=\"goal\", age_group=\"5-11\", \n",
    "                modality_textual=None, perspective=None, require_multimodal_context=None,\n",
    "                embodied=None, stage_labels=[])\n",
    "            DG.add_edge(f\"s{s}_ss{ss}_g{g}\", f\"s{s}_ss{ss}\", type=\"hierarchy\", label=\"is part of\")\n",
    "            goal_dm = subskill_dm[subskill_dm[\"Goals\"] == goal]\n",
    "            for stage in [\"stage-1\", \"stage-2\", \"stage-3\", \"stage-5\"]:\n",
    "                for indicator in goal_dm[stage].unique():\n",
    "                    if stage == \"stage-5\":\n",
    "                        DG.add_node(f\"s{s}_ss{ss}_g{g}_i{i}\", label=indicator, type=\"indicator\", age_group=\"5-11\", \n",
    "                            modality_textual=None, perspective=None, require_multimodal_context=None,\n",
    "                            embodied=None, stage_labels=[5,6])\n",
    "                    elif stage == \"stage-3\":\n",
    "                        DG.add_node(f\"s{s}_ss{ss}_g{g}_i{i}\", label=indicator, type=\"indicator\", age_group=\"5-11\", \n",
    "                            modality_textual=None, perspective=None, require_multimodal_context=None,\n",
    "                            embodied=None, stage_labels=[3,4])\n",
    "                    else:\n",
    "                        DG.add_node(f\"s{s}_ss{ss}_g{g}_i{i}\", label=indicator, type=\"indicator\", age_group=\"5-11\", \n",
    "                            modality_textual=None, perspective=None, require_multimodal_context=None,\n",
    "                            embodied=None, stage_labels=[stage.split(\"-\")[1]])\n",
    "                    DG.add_edge(f\"s{s}_ss{ss}_g{g}_i{i}\", f\"s{s}_ss{ss}_g{g}\", type=\"hierarchy\", label=\"is part of\")\n",
    "                    i += 1\n",
    "            g += 1\n",
    "        ss += 1\n",
    "    s += 1    \n",
    "                "
   ]
  },
  {
   "cell_type": "code",
   "execution_count": 17,
   "id": "4bdc9ccf",
   "metadata": {},
   "outputs": [],
   "source": [
    "dn = dd.iloc[400:, :]\n",
    "for skill in dn[\"Skills\"].unique():\n",
    "    skill_dn = dn[dn[\"Skills\"] == skill]\n",
    "    DG.add_node(f\"s{s}\", label=skill, type=\"skill\", age_group=\"5-11\", \n",
    "                modality_textual=None, perspective=None, require_multimodal_context=None,\n",
    "                embodied=None, stage_labels=[])\n",
    "    ss = 0\n",
    "    for subskill in skill_dn[\"Sub-skills\"].unique():\n",
    "        g = 0\n",
    "        subskill_dn = skill_dn[skill_dn[\"Sub-skills\"] == subskill]\n",
    "        DG.add_node(f\"s{s}_ss{ss}\", label=subskill, type=\"sub-skill\", age_group=\"5-11\", \n",
    "                modality_textual=None, perspective=None, require_multimodal_context=None,\n",
    "                embodied=None, stage_labels=[])\n",
    "        DG.add_edge(f\"s{s}_ss{ss}\", f\"s{s}\", type=\"hierarchy\", label=\"is part of\")\n",
    "        for goal in subskill_dn[\"Goals\"].unique():\n",
    "            i = 0\n",
    "            DG.add_node(f\"s{s}_ss{ss}_g{g}\", label=goal, type=\"goal\", age_group=\"5-11\", \n",
    "                modality_textual=None, perspective=None, require_multimodal_context=None,\n",
    "                embodied=None, stage_labels=[])\n",
    "            DG.add_edge(f\"s{s}_ss{ss}_g{g}\", f\"s{s}_ss{ss}\", type=\"hierarchy\", label=\"is part of\")\n",
    "            goal_dn = subskill_dn[subskill_dn[\"Goals\"] == goal]\n",
    "            for stage in [\"stage-1\", \"stage-2\", \"stage-3\", \"stage-4\", \"stage-5\", \"stage-6\"]:\n",
    "                for indicator in goal_dn[stage].unique():\n",
    "                    DG.add_node(f\"s{s}_ss{ss}_g{g}_i{i}\", label=indicator, type=\"indicator\", age_group=\"5-11\", \n",
    "                        modality_textual=None, perspective=None, require_multimodal_context=None,\n",
    "                        embodied=None, stage_labels=[int(stage.split(\"-\")[1])])\n",
    "                    DG.add_edge(f\"s{s}_ss{ss}_g{g}_i{i}\", f\"s{s}_ss{ss}_g{g}\", type=\"hierarchy\", label=\"is part of\")\n",
    "                    i += 1\n",
    "            g += 1\n",
    "        ss += 1\n",
    "    s += 1    "
   ]
  },
  {
   "cell_type": "code",
   "execution_count": 18,
   "id": "f828fa22",
   "metadata": {},
   "outputs": [],
   "source": [
    "dd = pd.read_csv(\"/datadrive/pavan/CurLL/data/age_11_14.csv\", encoding=\"utf-8\")\n",
    "dd.columns = dd.columns.str.strip()\n",
    "all_nan_rows = dd[dd.isna().all(axis=1)]\n",
    "dd.ffill(inplace=True)"
   ]
  },
  {
   "cell_type": "code",
   "execution_count": 21,
   "id": "1c3a28a9",
   "metadata": {},
   "outputs": [],
   "source": [
    "df = dd.iloc[:220,:]\n",
    "for skill in df[\"Skills\"].unique():\n",
    "    skill_df = df[df[\"Skills\"] == skill]\n",
    "    DG.add_node(f\"s{s}\", label=skill, type=\"skill\", age_group=\"11-14\", \n",
    "                modality_textual=None, perspective=None, require_multimodal_context=None,\n",
    "                embodied=None, stage_labels=[])\n",
    "    ss = 0\n",
    "    for subskill in skill_df[\"Sub-skills\"].unique():\n",
    "        g = 0\n",
    "        subskill_df = skill_df[skill_df[\"Sub-skills\"] == subskill]\n",
    "        DG.add_node(f\"s{s}_ss{ss}\", label=subskill, type=\"sub-skill\", age_group=\"11-14\", \n",
    "                modality_textual=None, perspective=None, require_multimodal_context=None,\n",
    "                embodied=None, stage_labels=[])\n",
    "        DG.add_edge(f\"s{s}_ss{ss}\", f\"s{s}\", type=\"hierarchy\", label=\"is part of\")\n",
    "        for goal in subskill_df[\"Goal\"].unique():\n",
    "            i = 0\n",
    "            DG.add_node(f\"s{s}_ss{ss}_g{g}\", label=goal, type=\"goal\", age_group=\"11-14\", \n",
    "                modality_textual=None, perspective=None, require_multimodal_context=None,\n",
    "                embodied=None, stage_labels=[])\n",
    "            DG.add_edge(f\"s{s}_ss{ss}_g{g}\", f\"s{s}_ss{ss}\", type=\"hierarchy\", label=\"is part of\")\n",
    "            goal_df = subskill_df[subskill_df[\"Goal\"] == goal]\n",
    "            for stage in [\"Stage-7\", \"Stage-8\", \"Stage-9\"]:\n",
    "                for indicator in goal_df[stage].unique():\n",
    "                    DG.add_node(f\"s{s}_ss{ss}_g{g}_i{i}\", label=indicator, type=\"indicator\", age_group=\"11-14\", \n",
    "                        modality_textual=None, perspective=None, require_multimodal_context=None,\n",
    "                        embodied=None, stage_labels=[int(stage.split(\"-\")[1])])\n",
    "                    DG.add_edge(f\"s{s}_ss{ss}_g{g}_i{i}\", f\"s{s}_ss{ss}_g{g}\", type=\"hierarchy\", label=\"is part of\")\n",
    "                    i += 1\n",
    "            g += 1\n",
    "        ss += 1\n",
    "    s += 1    "
   ]
  },
  {
   "cell_type": "code",
   "execution_count": 23,
   "id": "985b4454",
   "metadata": {},
   "outputs": [],
   "source": [
    "ds = dd.iloc[220:239,:]\n",
    "for skill in ds[\"Skills\"].unique():\n",
    "    skill_ds = ds[ds[\"Skills\"] == skill]\n",
    "    DG.add_node(f\"s{s}\", label=skill, type=\"skill\", age_group=\"11-14\", \n",
    "                modality_textual=None, perspective=None, require_multimodal_context=None,\n",
    "                embodied=None, stage_labels=[])\n",
    "    ss = 0\n",
    "    for subskill in skill_ds[\"Sub-skills\"].unique():\n",
    "        g = 0\n",
    "        subskill_ds = skill_ds[skill_ds[\"Sub-skills\"] == subskill]\n",
    "        DG.add_node(f\"s{s}_ss{ss}\", label=subskill, type=\"sub-skill\", age_group=\"11-14\", \n",
    "                modality_textual=None, perspective=None, require_multimodal_context=None,\n",
    "                embodied=None, stage_labels=[])\n",
    "        DG.add_edge(f\"s{s}_ss{ss}\", f\"s{s}\", type=\"hierarchy\", label=\"is part of\")\n",
    "        for goal in subskill_ds[\"Goal\"].unique():\n",
    "            i = 0\n",
    "            DG.add_node(f\"s{s}_ss{ss}_g{g}\", label=goal, type=\"goal\", age_group=\"11-14\", \n",
    "                modality_textual=None, perspective=None, require_multimodal_context=None,\n",
    "                embodied=None, stage_labels=[])\n",
    "            DG.add_edge(f\"s{s}_ss{ss}_g{g}\", f\"s{s}_ss{ss}\", type=\"hierarchy\", label=\"is part of\")\n",
    "            goal_ds = subskill_ds[subskill_ds[\"Goal\"] == goal]\n",
    "            for stage in [\"Stage-7\", \"Stage-9\"]:\n",
    "                for indicator in goal_ds[stage].unique():\n",
    "                    if stage == \"Stage-7\":\n",
    "                        DG.add_node(f\"s{s}_ss{ss}_g{g}_i{i}\", label=indicator, type=\"indicator\", age_group=\"11-14\", \n",
    "                            modality_textual=None, perspective=None, require_multimodal_context=None,\n",
    "                            embodied=None, stage_labels=[7,8])\n",
    "                    else:\n",
    "                        DG.add_node(f\"s{s}_ss{ss}_g{g}_i{i}\", label=indicator, type=\"indicator\", age_group=\"11-14\", \n",
    "                            modality_textual=None, perspective=None, require_multimodal_context=None,\n",
    "                            embodied=None, stage_labels=[9])\n",
    "                    DG.add_edge(f\"s{s}_ss{ss}_g{g}_i{i}\", f\"s{s}_ss{ss}_g{g}\", type=\"hierarchy\", label=\"is part of\")\n",
    "                    i += 1\n",
    "            g += 1\n",
    "        ss += 1\n",
    "    s += 1    \n",
    "                "
   ]
  },
  {
   "cell_type": "code",
   "execution_count": 25,
   "id": "d256a3c3",
   "metadata": {},
   "outputs": [],
   "source": [
    "ds = dd.iloc[239:320,:]\n",
    "for skill in ds[\"Skills\"].unique():\n",
    "    skill_ds = ds[ds[\"Skills\"] == skill]\n",
    "    DG.add_node(f\"s{s}\", label=skill, type=\"skill\", age_group=\"11-14\", \n",
    "                modality_textual=None, perspective=None, require_multimodal_context=None,\n",
    "                embodied=None, stage_labels=[])\n",
    "    ss = 0\n",
    "    for subskill in skill_ds[\"Sub-skills\"].unique():\n",
    "        g = 0\n",
    "        subskill_ds = skill_ds[skill_ds[\"Sub-skills\"] == subskill]\n",
    "        DG.add_node(f\"s{s}_ss{ss}\", label=subskill, type=\"sub-skill\", age_group=\"11-14\", \n",
    "                modality_textual=None, perspective=None, require_multimodal_context=None,\n",
    "                embodied=None, stage_labels=[])\n",
    "        DG.add_edge(f\"s{s}_ss{ss}\", f\"s{s}\", type=\"hierarchy\", label=\"is part of\")\n",
    "        for goal in subskill_ds[\"Goal\"].unique():\n",
    "            i = 0\n",
    "            DG.add_node(f\"s{s}_ss{ss}_g{g}\", label=goal, type=\"goal\", age_group=\"11-14\", \n",
    "                modality_textual=None, perspective=None, require_multimodal_context=None,\n",
    "                embodied=None, stage_labels=[])\n",
    "            DG.add_edge(f\"s{s}_ss{ss}_g{g}\", f\"s{s}_ss{ss}\", type=\"hierarchy\", label=\"is part of\")\n",
    "            goal_ds = subskill_ds[subskill_ds[\"Goal\"] == goal]\n",
    "            for stage in [\"Stage-7\"]:\n",
    "                for indicator in goal_ds[stage].unique():\n",
    "                    if stage == \"Stage-7\":\n",
    "                        DG.add_node(f\"s{s}_ss{ss}_g{g}_i{i}\", label=indicator, type=\"indicator\", age_group=\"11-14\", \n",
    "                            modality_textual=None, perspective=None, require_multimodal_context=None,\n",
    "                            embodied=None, stage_labels=[7,8,9])\n",
    "                    i += 1\n",
    "            g += 1\n",
    "        ss += 1\n",
    "    s += 1    \n",
    "                "
   ]
  },
  {
   "cell_type": "code",
   "execution_count": 27,
   "id": "1330e098",
   "metadata": {},
   "outputs": [],
   "source": [
    "df = dd.iloc[320:,:]\n",
    "for skill in df[\"Skills\"].unique():\n",
    "    skill_df = df[df[\"Skills\"] == skill]\n",
    "    DG.add_node(f\"s{s}\", label=skill, type=\"skill\", age_group=\"11-14\", \n",
    "                modality_textual=None, perspective=None, require_multimodal_context=None,\n",
    "                embodied=None, stage_labels=[])\n",
    "    ss = 0\n",
    "    for subskill in skill_df[\"Sub-skills\"].unique():\n",
    "        g = 0\n",
    "        subskill_df = skill_df[skill_df[\"Sub-skills\"] == subskill]\n",
    "        DG.add_node(f\"s{s}_ss{ss}\", label=subskill, type=\"sub-skill\", age_group=\"11-14\", \n",
    "                modality_textual=None, perspective=None, require_multimodal_context=None,\n",
    "                embodied=None, stage_labels=[])\n",
    "        DG.add_edge(f\"s{s}_ss{ss}\", f\"s{s}\", type=\"hierarchy\", label=\"is part of\")\n",
    "        for goal in subskill_df[\"Goal\"].unique():\n",
    "            i = 0\n",
    "            DG.add_node(f\"s{s}_ss{ss}_g{g}\", label=goal, type=\"goal\", age_group=\"11-14\", \n",
    "                modality_textual=None, perspective=None, require_multimodal_context=None,\n",
    "                embodied=None, stage_labels=[])\n",
    "            DG.add_edge(f\"s{s}_ss{ss}_g{g}\", f\"s{s}_ss{ss}\", type=\"hierarchy\", label=\"is part of\")\n",
    "            goal_df = subskill_df[subskill_df[\"Goal\"] == goal]\n",
    "            for stage in [\"Stage-7\", \"Stage-8\", \"Stage-9\"]:\n",
    "                for indicator in goal_df[stage].unique():\n",
    "                    DG.add_node(f\"s{s}_ss{ss}_g{g}_i{i}\", label=indicator, type=\"indicator\", age_group=\"11-14\", \n",
    "                        modality_textual=None, perspective=None, require_multimodal_context=None,\n",
    "                        embodied=None, stage_labels=[int(stage.split(\"-\")[1])])\n",
    "                    DG.add_edge(f\"s{s}_ss{ss}_g{g}_i{i}\", f\"s{s}_ss{ss}_g{g}\", type=\"hierarchy\", label=\"is part of\")\n",
    "                    i += 1\n",
    "            g += 1\n",
    "        ss += 1\n",
    "    s += 1    "
   ]
  },
  {
   "cell_type": "code",
   "execution_count": 28,
   "id": "3b9eb408",
   "metadata": {},
   "outputs": [
    {
     "name": "stdout",
     "output_type": "stream",
     "text": [
      "['s0', 's1', 's2', 's3', 's4', 's5', 's6', 's7', 's8', 's9', 's10', 's11', 's12', 's13', 's14', 's15', 's16', 's17', 's18', 's19', 's20']\n"
     ]
    }
   ],
   "source": [
    "DG.nodes(data=True)\n",
    "# find all nodes of type \"skill\"\n",
    "skill_nodes = [n for n, d in DG.nodes(data=True) if d['type'] == \"skill\"]\n",
    "print(skill_nodes)"
   ]
  },
  {
   "cell_type": "code",
   "execution_count": 29,
   "id": "f507072a",
   "metadata": {},
   "outputs": [
    {
     "data": {
      "text/plain": [
       "(3118, 3018)"
      ]
     },
     "execution_count": 29,
     "metadata": {},
     "output_type": "execute_result"
    }
   ],
   "source": [
    "len(DG.nodes()), len(DG.edges())"
   ]
  },
  {
   "cell_type": "code",
   "execution_count": 30,
   "id": "49b4b8f3",
   "metadata": {},
   "outputs": [],
   "source": [
    "llm_data = [{\"id\":n, **d} for n, d in DG.nodes(data=True) if d[\"type\"] == \"indicator\"]"
   ]
  },
  {
   "cell_type": "code",
   "execution_count": 31,
   "id": "bae506b2",
   "metadata": {},
   "outputs": [
    {
     "data": {
      "text/plain": [
       "2776"
      ]
     },
     "execution_count": 31,
     "metadata": {},
     "output_type": "execute_result"
    }
   ],
   "source": [
    "len(llm_data)"
   ]
  },
  {
   "cell_type": "code",
   "execution_count": 32,
   "id": "4dbbfd3e",
   "metadata": {},
   "outputs": [
    {
     "data": {
      "text/plain": [
       "{'id': 's1_ss1_g0_i3',\n",
       " 'label': 'Identifies book parts and features, such as the front, back, title, and author.',\n",
       " 'type': 'indicator',\n",
       " 'age_group': '0-5',\n",
       " 'modality_textual': None,\n",
       " 'perspective': None,\n",
       " 'require_multimodal_context': None,\n",
       " 'embodied': None,\n",
       " 'stage_labels': [0]}"
      ]
     },
     "execution_count": 32,
     "metadata": {},
     "output_type": "execute_result"
    }
   ],
   "source": [
    "llm_data[30]"
   ]
  },
  {
   "cell_type": "code",
   "execution_count": 37,
   "id": "65c3c237",
   "metadata": {},
   "outputs": [
    {
     "name": "stdout",
     "output_type": "stream",
     "text": [
      "3851700\n"
     ]
    }
   ],
   "source": [
    "from itertools import combinations\n",
    "\n",
    "perm_llm_data = list(combinations(llm_data, 2))\n",
    "print(len(perm_llm_data))"
   ]
  },
  {
   "cell_type": "code",
   "execution_count": 38,
   "id": "bbbb2edc",
   "metadata": {},
   "outputs": [],
   "source": [
    "seed_data = []\n",
    "for i in range(len(perm_llm_data)):\n",
    "    seed_data.append({\n",
    "                \"id_1\": perm_llm_data[i][0][\"id\"],\n",
    "                \"id_2\": perm_llm_data[i][1][\"id\"],\n",
    "                \"label_1\": perm_llm_data[i][0][\"label\"],\n",
    "                \"label_2\": perm_llm_data[i][1][\"label\"],\n",
    "            })"
   ]
  },
  {
   "cell_type": "code",
   "execution_count": 40,
   "id": "0992867e",
   "metadata": {},
   "outputs": [
    {
     "data": {
      "text/plain": [
       "{'id_1': 's0_ss0_g0_i0',\n",
       " 'id_2': 's0_ss0_g0_i1',\n",
       " 'label_1': 'Uses verbal and non-verbal signals appropriately to acknowledge the comments or questions of others.',\n",
       " 'label_2': 'Shows ongoing connection to a conversation, group discussion, or presentation.'}"
      ]
     },
     "execution_count": 40,
     "metadata": {},
     "output_type": "execute_result"
    }
   ],
   "source": [
    "seed_data[0]"
   ]
  },
  {
   "cell_type": "code",
   "execution_count": 47,
   "id": "c9ae3be5",
   "metadata": {},
   "outputs": [],
   "source": [
    "import json\n",
    "\n",
    "#divide the data into 8 parts\n",
    "chunk_size = len(seed_data) // 8\n",
    "chunks = [seed_data[i:i + chunk_size] for i in range(0, len(seed_data), chunk_size)]\n"
   ]
  },
  {
   "cell_type": "code",
   "execution_count": 49,
   "id": "49ba3c60",
   "metadata": {},
   "outputs": [],
   "source": [
    "# save each chunk to a separate file\n",
    "for i, chunk in enumerate(chunks):\n",
    "    with open(f\"/datadrive/pavan/az_storage/data_unorganized/skill_graph/dependency_edge_seed_{i}.jsonl\", \"w\") as f:\n",
    "        json.dump(chunk, f, indent=4)"
   ]
  },
  {
   "cell_type": "code",
   "execution_count": 50,
   "id": "3c070bd7",
   "metadata": {},
   "outputs": [],
   "source": [
    "import pickle\n",
    "with open(\"/datadrive/pavan/az_storage/data_unorganized/skill_graph/skill_graph.pkl\", \"wb\") as f:\n",
    "    pickle.dump(DG, f)"
   ]
  },
  {
   "cell_type": "code",
   "execution_count": 46,
   "id": "c7b6477e",
   "metadata": {},
   "outputs": [
    {
     "data": {
      "text/plain": [
       "3851700"
      ]
     },
     "execution_count": 46,
     "metadata": {},
     "output_type": "execute_result"
    }
   ],
   "source": [
    "len(seed_data)"
   ]
  },
  {
   "cell_type": "code",
   "execution_count": null,
   "id": "0bc9150e",
   "metadata": {},
   "outputs": [],
   "source": []
  }
 ],
 "metadata": {
  "kernelspec": {
   "display_name": "vllm_env",
   "language": "python",
   "name": "python3"
  },
  "language_info": {
   "codemirror_mode": {
    "name": "ipython",
    "version": 3
   },
   "file_extension": ".py",
   "mimetype": "text/x-python",
   "name": "python",
   "nbconvert_exporter": "python",
   "pygments_lexer": "ipython3",
   "version": "3.12.7"
  }
 },
 "nbformat": 4,
 "nbformat_minor": 5
}
