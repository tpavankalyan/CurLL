{
 "cells": [
  {
   "cell_type": "code",
   "execution_count": 1,
   "id": "09fe1c23",
   "metadata": {},
   "outputs": [],
   "source": [
    "import json\n",
    "import re\n",
    "from tqdm import tqdm"
   ]
  },
  {
   "cell_type": "code",
   "execution_count": 2,
   "id": "c3eb88b6",
   "metadata": {},
   "outputs": [],
   "source": [
    "def load_data(metadata_path, seed=False):\n",
    "    with open(metadata_path, \"r\") as f:\n",
    "        metadata = json.load(f)\n",
    "    num_files = len(metadata)\n",
    "    data = []\n",
    "    for i in tqdm(range(num_files)):\n",
    "        file_name = f\"chunk_{i}.jsonl\"\n",
    "        chunk_path = \"/\".join(metadata_path.split(\"/\")[:-1] + [file_name]).replace(\"seed\", \"raw\")\n",
    "        # print(chunk_path)\n",
    "        with open(chunk_path, \"r\") as f:\n",
    "            chunk_data = json.load(f)\n",
    "            # print(len(chunk_data))\n",
    "        data.extend(chunk_data)\n",
    "    print(\"Total samples: \",len(data))\n",
    "    return data\n",
    "\n",
    "def output_dict_check(data_list):\n",
    "    good_list = [o for o in data_list if isinstance(o['output'], dict)]\n",
    "    bad_list = [o for o in data_list if not isinstance(o['output'], dict)]\n",
    "    print(\"Total samples: \",len(data_list))\n",
    "    print(\"Good samples: \",len(good_list))\n",
    "    print(\"Bad samples: \",len(bad_list))\n",
    "    return good_list, bad_list\n",
    "\n",
    "def extract_json_from_string(text):\n",
    "    # Use regex to extract the JSON block between ```json and ```\n",
    "    match = re.search(r\"```json\\n({.*?})\\n```\", text, re.DOTALL)\n",
    "    if not match:\n",
    "        raise ValueError(\"No valid JSON block found in the input string.\")\n",
    "    \n",
    "    json_str = match.group(1)\n",
    "    json_str = json_str.replace(\"{{\", \"{\")\n",
    "    json_str = json_str.replace(\"}}\", \"}\")\n",
    "\n",
    "    # Parse the JSON string\n",
    "    try:\n",
    "        data = json.loads(json_str)\n",
    "        return data\n",
    "    except json.JSONDecodeError as e:\n",
    "        raise ValueError(f\"Invalid JSON format: {e}\")\n",
    "\n",
    "def validate_instruction_response(dict_instance, output_format):\n",
    "    required_keys = {}\n",
    "    for k in output_format:\n",
    "        required_keys[k] = type(output_format[k])\n",
    "    for key, expected_type in required_keys.items():\n",
    "        if key not in dict_instance:\n",
    "            return False\n",
    "    return True\n",
    "\n",
    "def check_json_struct(data_list, prompt_path):\n",
    "    with open(prompt_path, \"r\") as f:\n",
    "        prompt = json.load(f)\n",
    "    output_format = extract_json_from_string(prompt['user'])\n",
    "    print(output_format)\n",
    "    good_list = [o for o in data_list if validate_instruction_response(o['output'], output_format)]\n",
    "    bad_list = [o for o in data_list if not validate_instruction_response(o['output'], output_format)]\n",
    "    print(\"Total samples: \",len(data_list))\n",
    "    print(\"Good samples: \",len(good_list))\n",
    "    print(\"Bad samples: \",len(bad_list))\n",
    "    return good_list, bad_list\n",
    "\n",
    "def make_correction_prompt(prompt_path):\n",
    "    with open(prompt_path, \"r\") as f:\n",
    "        prompt = json.load(f)\n",
    "    match = re.search(r\"```json\\n({.*?})\\n```\", prompt['user'], re.DOTALL)\n",
    "    if not match:\n",
    "        raise ValueError(\"No valid JSON block found in the input string.\")\n",
    "    json_str = match.group(1)\n",
    "    print(json_str)\n",
    "    return json_str.strip()\n"
   ]
  },
  {
   "cell_type": "markdown",
   "id": "eed2a513",
   "metadata": {},
   "source": [
    "## Instructions"
   ]
  },
  {
   "cell_type": "code",
   "execution_count": 64,
   "id": "fe17dff8",
   "metadata": {},
   "outputs": [
    {
     "name": "stderr",
     "output_type": "stream",
     "text": [
      "  0%|          | 0/12 [00:00<?, ?it/s]"
     ]
    },
    {
     "name": "stderr",
     "output_type": "stream",
     "text": [
      "100%|██████████| 12/12 [00:31<00:00,  2.60s/it]"
     ]
    },
    {
     "name": "stdout",
     "output_type": "stream",
     "text": [
      "Total samples:  3006990\n"
     ]
    },
    {
     "name": "stderr",
     "output_type": "stream",
     "text": [
      "\n"
     ]
    }
   ],
   "source": [
    "stage0 = load_data(\"/datadrive/pavan/az_storage/data_unorganized/stages/stage0/seed/context/metadata_chunks.jsonl\")"
   ]
  },
  {
   "cell_type": "code",
   "execution_count": 65,
   "id": "5990eee3",
   "metadata": {},
   "outputs": [
    {
     "name": "stdout",
     "output_type": "stream",
     "text": [
      "Total samples:  3006990\n",
      "Good samples:  2929377\n",
      "Bad samples:  77613\n"
     ]
    }
   ],
   "source": [
    "s0_g0, s0_b0 = output_dict_check(stage0)"
   ]
  },
  {
   "cell_type": "code",
   "execution_count": 66,
   "id": "3431e8ad",
   "metadata": {},
   "outputs": [
    {
     "name": "stdout",
     "output_type": "stream",
     "text": [
      "{'expanded_topic': '<expanded topic>', 'generated_text': '<generated text between 250 and 500 words>'}\n"
     ]
    },
    {
     "name": "stdout",
     "output_type": "stream",
     "text": [
      "Total samples:  2929377\n",
      "Good samples:  2929087\n",
      "Bad samples:  290\n"
     ]
    }
   ],
   "source": [
    "s0_g1, s0_b1 = check_json_struct(s0_g0, \"/datadrive/pavan/az_storage/data_unorganized/stages/stage0/seed/context/prompt.json\")"
   ]
  },
  {
   "cell_type": "code",
   "execution_count": 67,
   "id": "bda50f0e",
   "metadata": {},
   "outputs": [],
   "source": [
    "s0_bad_list = s0_b0 + s0_b1"
   ]
  },
  {
   "cell_type": "code",
   "execution_count": 32,
   "id": "0cb66f93",
   "metadata": {},
   "outputs": [],
   "source": [
    "s0_bad_list = s0_b0 + s0_b1\n",
    "with open(\"/datadrive/pavan/az_storage/data_unorganized/stages/stage0/raw/context/bad_list.jsonl\", \"w\") as f:\n",
    "    json.dump(s0_bad_list, f, indent=4)\n",
    "with open(\"/datadrive/pavan/az_storage/data_unorganized/stages/stage0/raw/context/good_list.jsonl\", \"w\") as f:\n",
    "    json.dump(s0_g1, f, indent=4)"
   ]
  },
  {
   "cell_type": "code",
   "execution_count": 33,
   "id": "2f3ea187",
   "metadata": {},
   "outputs": [
    {
     "data": {
      "text/plain": [
       "(2929087, 77903, 3006990)"
      ]
     },
     "execution_count": 33,
     "metadata": {},
     "output_type": "execute_result"
    }
   ],
   "source": [
    "len(s0_g1), len(s0_bad_list), len(s0_g1) + len(s0_bad_list)"
   ]
  },
  {
   "cell_type": "code",
   "execution_count": 43,
   "id": "853d3559",
   "metadata": {},
   "outputs": [
    {
     "name": "stdout",
     "output_type": "stream",
     "text": [
      "{{\n",
      "    \"expanded_topic\": \"<expanded topic>\",\n",
      "    \"generated_text\": \"<generated text between 250 and 500 words>\"\n",
      "}}\n"
     ]
    }
   ],
   "source": [
    "correct_format = make_correction_prompt(\"/datadrive/pavan/az_storage/data_unorganized/stages/stage0/seed/context/prompt.json\")"
   ]
  },
  {
   "cell_type": "code",
   "execution_count": 37,
   "id": "64b1ee67",
   "metadata": {},
   "outputs": [
    {
     "name": "stdout",
     "output_type": "stream",
     "text": [
      "You are a JSON repair assistant. The input will always be invalid JSON with possible issues like: unescaped characters, missing or extra quotes, incorrect key-value syntax, mismatched brackets, or trailing commas. Your task is to fix all such errors and return a valid JSON. Do not explain anything. Just return the corrected JSON in the format specified by the user.\n",
      "____________________________\n",
      "You are a helpful assistant. Please correct the JSON below to make it valid JSON. The JSON is always invalid and may have issues like escaping errors, incorrect or missing key names, extra or missing brackets or quotes, or malformed structure. Fix all these issues completely.\n",
      "\n",
      "Input:\n",
      "\n",
      "{output_str}\n",
      "\n",
      "Your response must follow this exact format — nothing more, nothing less:\n",
      "\n",
      "```json\n",
      "{correct_format}\n",
      "```\n"
     ]
    }
   ],
   "source": [
    "prompt = {\"system\": \"You are a JSON repair assistant. The input will always be invalid JSON with possible issues like: unescaped characters, missing or extra quotes, incorrect key-value syntax, mismatched brackets, or trailing commas. Your task is to fix all such errors and return a valid JSON. Do not explain anything. Just return the corrected JSON in the format specified by the user.\",\n",
    "          \"user\": \"You are a helpful assistant. Please correct the JSON below to make it valid JSON. The JSON is always invalid and may have issues like escaping errors, incorrect or missing key names, extra or missing brackets or quotes, or malformed structure. Fix all these issues completely.\\n\\nInput:\\n\\n{output_str}\\n\\nYour response must follow this exact format — nothing more, nothing less:\\n\\n```json\\n{correct_format}\\n```\"}\n",
    "print(prompt[\"system\"])\n",
    "print(\"____________________________\")\n",
    "print(prompt[\"user\"])"
   ]
  },
  {
   "cell_type": "code",
   "execution_count": 68,
   "id": "9709c788",
   "metadata": {},
   "outputs": [
    {
     "data": {
      "text/plain": [
       "{'output': '```json\\n{\\n    \"expanded_topic\": \"A little bear cub learns about listening and responding to his mother\\'s directions while exploring the forest.\",\\n    \"generated_text\": \"Barnaby the bear cub was a very busy little bear! He loved exploring. One sunny morning, Mama Bear said, “Barnaby, please stay close while we look for berries. And Barnaby, *listen* when I call your name!”\\\\n\\\\nBarnaby nodded, but soon, a bright blue butterfly fluttered past. “Ooh!” he squealed, and ran after it. He didn\\'t look back. He didn’t hear Mama Bear calling, “Barnaby! Barnaby, where are you?”\\\\n\\\\nHe chased the butterfly deeper and deeper into the woods. He bumped into a big tree and then splashed through a puddle! It was very fun, but he was all alone. Barnaby started to feel a little bit scared.\\\\n\\\\n“Barnaby!” Mama Bear’s voice sounded far away. Barnaby stopped. He tilted his head, listening very carefully. He heard her again, “Barnaby! This way!”\\\\n\\\\nHe turned and ran towards the sound of her voice. Finally, he saw Mama Bear. She looked relieved. She gave Barnaby a big hug.\\\\n\\\\n“Barnaby, I was worried! I told you to stay close and listen,” Mama Bear said gently. \\\\n\\\\nBarnaby looked down at his paws. “I was chasing a butterfly,” he mumbled. “I didn’t mean to wander off.”\\\\n\\\\nMama Bear smiled. “I know you didn’t mean to, sweetie. But it’s important to listen when someone is talking to you, especially when they are keeping you safe. If you hear me calling, yell back ‘I’m here!’ so I know you’re okay.”\\\\n\\\\nBarnaby nodded. \"I will, Mama!\" He held her paw tightly as they continued to look for berries. This time, Barnaby listened carefully and answered every time Mama Bear spoke. He even pointed out a patch of juicy red berries! It was much more fun exploring *with* Mama Bear, and knowing she could hear him. He learned that listening wasn\\'t just about hearing, but about showing Mama Bear he understood and cared.\"\\n}\\n```',\n",
       " 'id': 'i0',\n",
       " 'indicator': 'Uses verbal and non-verbal signals appropriately to acknowledge the comments or questions of others.',\n",
       " 'skill': 'Language and Communication',\n",
       " 'subskill': 'Attending and Understanding',\n",
       " 'goal': 'Child attends to communication and language from others.',\n",
       " 'age_group': '0-5',\n",
       " 'stage': 0,\n",
       " 'context_template': 'Simple narrative retelling',\n",
       " 'word_list': ['naughty', 'Adjective']}"
      ]
     },
     "execution_count": 68,
     "metadata": {},
     "output_type": "execute_result"
    }
   ],
   "source": [
    "s0_bad_list[0]"
   ]
  },
  {
   "cell_type": "code",
   "execution_count": 69,
   "id": "8a661e01",
   "metadata": {},
   "outputs": [],
   "source": [
    "bad_seed_list = []\n",
    "for i in range(len(s0_bad_list)):\n",
    "    #change the key output to output_prev\n",
    "    s0_bad_list[i]['output_prev'] = s0_bad_list[i]['output']\n",
    "    s0_bad_list[i].pop('output')\n",
    "    bad_seed_list.append({\"output_str\": s0_bad_list[i]['output_prev'],\n",
    "                          \"correct_format\": correct_format,\n",
    "                          **s0_bad_list[i]})"
   ]
  },
  {
   "cell_type": "code",
   "execution_count": 70,
   "id": "93b11348",
   "metadata": {},
   "outputs": [
    {
     "data": {
      "text/plain": [
       "{'output_str': '```json\\n{\\n    \"expanded_topic\": \"A little bear cub learns about listening and responding to his mother\\'s directions while exploring the forest.\",\\n    \"generated_text\": \"Barnaby the bear cub was a very busy little bear! He loved exploring. One sunny morning, Mama Bear said, “Barnaby, please stay close while we look for berries. And Barnaby, *listen* when I call your name!”\\\\n\\\\nBarnaby nodded, but soon, a bright blue butterfly fluttered past. “Ooh!” he squealed, and ran after it. He didn\\'t look back. He didn’t hear Mama Bear calling, “Barnaby! Barnaby, where are you?”\\\\n\\\\nHe chased the butterfly deeper and deeper into the woods. He bumped into a big tree and then splashed through a puddle! It was very fun, but he was all alone. Barnaby started to feel a little bit scared.\\\\n\\\\n“Barnaby!” Mama Bear’s voice sounded far away. Barnaby stopped. He tilted his head, listening very carefully. He heard her again, “Barnaby! This way!”\\\\n\\\\nHe turned and ran towards the sound of her voice. Finally, he saw Mama Bear. She looked relieved. She gave Barnaby a big hug.\\\\n\\\\n“Barnaby, I was worried! I told you to stay close and listen,” Mama Bear said gently. \\\\n\\\\nBarnaby looked down at his paws. “I was chasing a butterfly,” he mumbled. “I didn’t mean to wander off.”\\\\n\\\\nMama Bear smiled. “I know you didn’t mean to, sweetie. But it’s important to listen when someone is talking to you, especially when they are keeping you safe. If you hear me calling, yell back ‘I’m here!’ so I know you’re okay.”\\\\n\\\\nBarnaby nodded. \"I will, Mama!\" He held her paw tightly as they continued to look for berries. This time, Barnaby listened carefully and answered every time Mama Bear spoke. He even pointed out a patch of juicy red berries! It was much more fun exploring *with* Mama Bear, and knowing she could hear him. He learned that listening wasn\\'t just about hearing, but about showing Mama Bear he understood and cared.\"\\n}\\n```',\n",
       " 'correct_format': '{{\\n    \"expanded_topic\": \"<expanded topic>\",\\n    \"generated_text\": \"<generated text between 250 and 500 words>\"\\n}}',\n",
       " 'id': 'i0',\n",
       " 'indicator': 'Uses verbal and non-verbal signals appropriately to acknowledge the comments or questions of others.',\n",
       " 'skill': 'Language and Communication',\n",
       " 'subskill': 'Attending and Understanding',\n",
       " 'goal': 'Child attends to communication and language from others.',\n",
       " 'age_group': '0-5',\n",
       " 'stage': 0,\n",
       " 'context_template': 'Simple narrative retelling',\n",
       " 'word_list': ['naughty', 'Adjective'],\n",
       " 'output_prev': '```json\\n{\\n    \"expanded_topic\": \"A little bear cub learns about listening and responding to his mother\\'s directions while exploring the forest.\",\\n    \"generated_text\": \"Barnaby the bear cub was a very busy little bear! He loved exploring. One sunny morning, Mama Bear said, “Barnaby, please stay close while we look for berries. And Barnaby, *listen* when I call your name!”\\\\n\\\\nBarnaby nodded, but soon, a bright blue butterfly fluttered past. “Ooh!” he squealed, and ran after it. He didn\\'t look back. He didn’t hear Mama Bear calling, “Barnaby! Barnaby, where are you?”\\\\n\\\\nHe chased the butterfly deeper and deeper into the woods. He bumped into a big tree and then splashed through a puddle! It was very fun, but he was all alone. Barnaby started to feel a little bit scared.\\\\n\\\\n“Barnaby!” Mama Bear’s voice sounded far away. Barnaby stopped. He tilted his head, listening very carefully. He heard her again, “Barnaby! This way!”\\\\n\\\\nHe turned and ran towards the sound of her voice. Finally, he saw Mama Bear. She looked relieved. She gave Barnaby a big hug.\\\\n\\\\n“Barnaby, I was worried! I told you to stay close and listen,” Mama Bear said gently. \\\\n\\\\nBarnaby looked down at his paws. “I was chasing a butterfly,” he mumbled. “I didn’t mean to wander off.”\\\\n\\\\nMama Bear smiled. “I know you didn’t mean to, sweetie. But it’s important to listen when someone is talking to you, especially when they are keeping you safe. If you hear me calling, yell back ‘I’m here!’ so I know you’re okay.”\\\\n\\\\nBarnaby nodded. \"I will, Mama!\" He held her paw tightly as they continued to look for berries. This time, Barnaby listened carefully and answered every time Mama Bear spoke. He even pointed out a patch of juicy red berries! It was much more fun exploring *with* Mama Bear, and knowing she could hear him. He learned that listening wasn\\'t just about hearing, but about showing Mama Bear he understood and cared.\"\\n}\\n```'}"
      ]
     },
     "execution_count": 70,
     "metadata": {},
     "output_type": "execute_result"
    }
   ],
   "source": [
    "bad_seed_list[0]"
   ]
  },
  {
   "cell_type": "code",
   "execution_count": 72,
   "id": "cdc35f1f",
   "metadata": {},
   "outputs": [],
   "source": [
    "num_gpus = 4\n",
    "stage = 0\n",
    "type = \"context\"\n",
    "chunk_size = len(bad_seed_list) // num_gpus\n",
    "chunks = [bad_seed_list[i:i + chunk_size] for i in range(0, len(bad_seed_list), chunk_size)]\n",
    "chunk_metadata = {}\n",
    "for i, chunk in enumerate(chunks):\n",
    "    with open(f\"/datadrive/pavan/az_storage/data_unorganized/stages/stage{stage}/seed/{type}/bad_chunk_{i}.jsonl\", \"w\") as f:\n",
    "        json.dump(chunk, f)\n",
    "    chunk_metadata[f\"c_{i}\"] = {\n",
    "        \"start\": i * chunk_size,\n",
    "        \"end\": (i + 1) * chunk_size,\n",
    "        \"size\": len(chunk)\n",
    "    }\n",
    "with open(f\"/datadrive/pavan/az_storage/data_unorganized/stages/stage{stage}/seed/{type}/bad_metadata_chunks.jsonl\", \"w\") as f:\n",
    "    json.dump(chunk_metadata, f)\n",
    "# with open(\"/datadrive/pavan/az_storage/data_unorganized/stages/stage0/seed/context/bad_seed_list.jsonl\", \"w\") as f:\n",
    "#     json.dump(bad_seed_list, f, indent=4)\n",
    "# with open(\"/datadrive/pavan/az_storage/data_unorganized/stages/stage0/seed/context/bad_list_prompt.json\", \"w\") as f:\n",
    "#     json.dump(prompt, f, indent=4)"
   ]
  },
  {
   "cell_type": "markdown",
   "id": "e93a5dc2",
   "metadata": {},
   "source": [
    "## Clean corrected"
   ]
  },
  {
   "cell_type": "code",
   "execution_count": 4,
   "id": "c45d408a",
   "metadata": {},
   "outputs": [],
   "source": [
    "def load_data_corrected(metadata_path, seed=False):\n",
    "    with open(metadata_path, \"r\") as f:\n",
    "        metadata = json.load(f)\n",
    "    num_files = len(metadata)\n",
    "    data = []\n",
    "    for i in tqdm(range(num_files)):\n",
    "        file_name = f\"bad_chunk_{i}.jsonl\"\n",
    "        chunk_path = \"/\".join(metadata_path.split(\"/\")[:-1] + [file_name]).replace(\"seed\", \"raw\")\n",
    "        # print(chunk_path)\n",
    "        with open(chunk_path, \"r\") as f:\n",
    "            chunk_data = json.load(f)\n",
    "            # print(len(chunk_data))\n",
    "        data.extend(chunk_data)\n",
    "    print(\"Total samples: \",len(data))\n",
    "    return data"
   ]
  },
  {
   "cell_type": "code",
   "execution_count": 30,
   "id": "2f938947",
   "metadata": {},
   "outputs": [
    {
     "name": "stderr",
     "output_type": "stream",
     "text": [
      "  0%|          | 0/5 [00:00<?, ?it/s]"
     ]
    },
    {
     "name": "stderr",
     "output_type": "stream",
     "text": [
      "100%|██████████| 5/5 [00:03<00:00,  1.55it/s]"
     ]
    },
    {
     "name": "stdout",
     "output_type": "stream",
     "text": [
      "Total samples:  77903\n"
     ]
    },
    {
     "name": "stderr",
     "output_type": "stream",
     "text": [
      "\n"
     ]
    }
   ],
   "source": [
    "stage0 = load_data_corrected(\"/datadrive/pavan/az_storage/data_unorganized/stages/stage0/seed/context/bad_metadata_chunks.jsonl\")"
   ]
  },
  {
   "cell_type": "code",
   "execution_count": 31,
   "id": "22234b05",
   "metadata": {},
   "outputs": [
    {
     "name": "stdout",
     "output_type": "stream",
     "text": [
      "Total samples:  77903\n",
      "Good samples:  49594\n",
      "Bad samples:  28309\n"
     ]
    }
   ],
   "source": [
    "s0_g0, s0_b0 = output_dict_check(stage0)"
   ]
  },
  {
   "cell_type": "code",
   "execution_count": 32,
   "id": "9da74de5",
   "metadata": {},
   "outputs": [],
   "source": [
    "import re\n",
    "\n",
    "def extract_key_values(s, keys):\n",
    "    entry = {}\n",
    "    for i, key in enumerate(keys):\n",
    "        # Regex pattern: look for \"key\": and capture everything until the next key or end\n",
    "        pattern = rf'\"{key}\"\\s*:\\s*(.*?)\\s*(?=\"{keys[i+1]}\"\\s*:|$)' if i + 1 < len(keys) else rf'\"{key}\"\\s*:\\s*(.*)'\n",
    "        match = re.search(pattern, s, re.DOTALL)\n",
    "        if match:\n",
    "            value = match.group(1).strip().strip('\",')\n",
    "            entry[key] = value.strip(\"```\").strip(\"\\n\").strip(\"}\").strip(\"\\n\")\n",
    "        else:\n",
    "            entry[key] = None\n",
    "    return entry"
   ]
  },
  {
   "cell_type": "code",
   "execution_count": 33,
   "id": "0067bb7a",
   "metadata": {},
   "outputs": [
    {
     "data": {
      "text/plain": [
       "{'output': '```json\\n{\\n    \"expanded_topic\": \"Getting Ready for a Walk with Mommy\",\\n    \"generated_text\": \"Mommy was getting ready to go for a walk! Leo watched her. First, Mommy put on her shoes. \\\\\"Are you ready to go, Leo?\\\\\" she asked. Leo bounced up and down and clapped his hands. He loves walks! \\\\n\\\\nMommy smiled. “Okay, let’s find your hat.” She held up a blue hat. “Will this one work?” Leo shook his head. He pointed to the red hat on the chair. “Red!” he said happily. Mommy put the red hat on his head. It was a little big, but Leo didn’t mind. He giggled.\\\\n\\\\nNext, Mommy looked for her scarf. “It’s chilly today,” she said. She wrapped the scarf around her neck. Then she reached for something else. It was her coat!  She held it up. “Hmm, is this the right color?” she asked, showing Leo the purple coat. Leo looked carefully. He tilted his head and then pointed to a different coat. It was blue! Mommy laughed. “You are right! The blue coat is perfect.”\\\\n\\\\nShe put on the blue coat and zipped it up. She then looked at Leo. \\\\\"Do *you* need a coat?\\\\\" Leo nodded excitedly. Mommy helped him put on his little yellow coat. She zipped it up too.\\\\n\\\\n“All set!” Mommy said. She picked up the leash for the dog, Patches. Patches wagged his tail and barked happily. Leo pointed at Patches and said, “Walkies!” Mommy smiled and said, “Yes, walkies! We’re all ready for our walk now.” She looked at Leo and asked, “Are *you* ready?\" Leo jumped and smiled very big, reaching for Mommy’s hand. He was so happy to go for a walk with Mommy and Patches!\"\\n}\\n```',\n",
       " 'output_str': '```json\\n{\\n    \"expanded_topic\": \"Getting Ready for a Walk with Mommy\",\\n    \"generated_text\": \"Mommy was getting ready to go for a walk! Leo watched her. First, Mommy put on her shoes. \\\\\"Are you ready to go, Leo?\\\\\" she asked. Leo bounced up and down and clapped his hands. He loves walks! \\\\n\\\\nMommy smiled. “Okay, let’s find your hat.” She held up a blue hat. “Will this one work?” Leo shook his head. He pointed to the red hat on the chair. “Red!” he said happily. Mommy put the red hat on his head. It was a little big, but Leo didn’t mind. He giggled.\\\\n\\\\nNext, Mommy looked for her scarf. “It’s chilly today,” she said. She wrapped the scarf around her neck. Then she reached for something else. It was her coat!  She held it up. “Hmm, is this the right color?” she asked, showing Leo the purple coat. Leo looked carefully. He tilted his head and then pointed to a different coat. It was blue! Mommy laughed. “You are right! The blue coat is perfect.”\\\\n\\\\nShe put on the blue coat and zipped it up. She then looked at Leo. \\\\\"Do *you* need a coat?\\\\\" Leo nodded excitedly. Mommy helped him put on his little yellow coat. She zipped it up too.\\\\n\\\\n“All set!” Mommy said. She picked up the leash for the dog, Patches. Patches wagged his tail and barked happily. Leo pointed at Patches and said, “Walkies!” Mommy smiled and said, “Yes, walkies! We’re all ready for our walk now.” She looked at Leo and asked, “Are *you* ready?\" Leo jumped and smiled very big, reaching for Mommy’s hand. He was so happy to go for a walk with Mommy and Patches!\"\\n}\\n```',\n",
       " 'correct_format': '{{\\n    \"expanded_topic\": \"<expanded topic>\",\\n    \"generated_text\": \"<generated text between 250 and 500 words>\"\\n}}',\n",
       " 'id': 'i0',\n",
       " 'indicator': 'Uses verbal and non-verbal signals appropriately to acknowledge the comments or questions of others.',\n",
       " 'skill': 'Language and Communication',\n",
       " 'subskill': 'Attending and Understanding',\n",
       " 'goal': 'Child attends to communication and language from others.',\n",
       " 'age_group': '0-5',\n",
       " 'stage': 0,\n",
       " 'context_template': 'Simple narrative retelling',\n",
       " 'word_list': ['jacket', 'Noun'],\n",
       " 'output_prev': '```json\\n{\\n    \"expanded_topic\": \"Getting Ready for a Walk with Mommy\",\\n    \"generated_text\": \"Mommy was getting ready to go for a walk! Leo watched her. First, Mommy put on her shoes. \\\\\"Are you ready to go, Leo?\\\\\" she asked. Leo bounced up and down and clapped his hands. He loves walks! \\\\n\\\\nMommy smiled. “Okay, let’s find your hat.” She held up a blue hat. “Will this one work?” Leo shook his head. He pointed to the red hat on the chair. “Red!” he said happily. Mommy put the red hat on his head. It was a little big, but Leo didn’t mind. He giggled.\\\\n\\\\nNext, Mommy looked for her scarf. “It’s chilly today,” she said. She wrapped the scarf around her neck. Then she reached for something else. It was her coat!  She held it up. “Hmm, is this the right color?” she asked, showing Leo the purple coat. Leo looked carefully. He tilted his head and then pointed to a different coat. It was blue! Mommy laughed. “You are right! The blue coat is perfect.”\\\\n\\\\nShe put on the blue coat and zipped it up. She then looked at Leo. \\\\\"Do *you* need a coat?\\\\\" Leo nodded excitedly. Mommy helped him put on his little yellow coat. She zipped it up too.\\\\n\\\\n“All set!” Mommy said. She picked up the leash for the dog, Patches. Patches wagged his tail and barked happily. Leo pointed at Patches and said, “Walkies!” Mommy smiled and said, “Yes, walkies! We’re all ready for our walk now.” She looked at Leo and asked, “Are *you* ready?\" Leo jumped and smiled very big, reaching for Mommy’s hand. He was so happy to go for a walk with Mommy and Patches!\"\\n}\\n```'}"
      ]
     },
     "execution_count": 33,
     "metadata": {},
     "output_type": "execute_result"
    }
   ],
   "source": [
    "s0_b0[0]"
   ]
  },
  {
   "cell_type": "code",
   "execution_count": 34,
   "id": "5e53b789",
   "metadata": {},
   "outputs": [],
   "source": [
    "for i in range(len(s0_b0)):\n",
    "    s0_b0[i]['output'] = extract_key_values(s0_b0[i]['output'], [\"expanded_topic\", \"generated_text\"])"
   ]
  },
  {
   "cell_type": "code",
   "execution_count": 35,
   "id": "5fd2e174",
   "metadata": {},
   "outputs": [
    {
     "data": {
      "text/plain": [
       "{'output': {'expanded_topic': 'Getting Ready for a Walk with Mommy',\n",
       "  'generated_text': 'Mommy was getting ready to go for a walk! Leo watched her. First, Mommy put on her shoes. \\\\\"Are you ready to go, Leo?\\\\\" she asked. Leo bounced up and down and clapped his hands. He loves walks! \\\\n\\\\nMommy smiled. “Okay, let’s find your hat.” She held up a blue hat. “Will this one work?” Leo shook his head. He pointed to the red hat on the chair. “Red!” he said happily. Mommy put the red hat on his head. It was a little big, but Leo didn’t mind. He giggled.\\\\n\\\\nNext, Mommy looked for her scarf. “It’s chilly today,” she said. She wrapped the scarf around her neck. Then she reached for something else. It was her coat!  She held it up. “Hmm, is this the right color?” she asked, showing Leo the purple coat. Leo looked carefully. He tilted his head and then pointed to a different coat. It was blue! Mommy laughed. “You are right! The blue coat is perfect.”\\\\n\\\\nShe put on the blue coat and zipped it up. She then looked at Leo. \\\\\"Do *you* need a coat?\\\\\" Leo nodded excitedly. Mommy helped him put on his little yellow coat. She zipped it up too.\\\\n\\\\n“All set!” Mommy said. She picked up the leash for the dog, Patches. Patches wagged his tail and barked happily. Leo pointed at Patches and said, “Walkies!” Mommy smiled and said, “Yes, walkies! We’re all ready for our walk now.” She looked at Leo and asked, “Are *you* ready?\" Leo jumped and smiled very big, reaching for Mommy’s hand. He was so happy to go for a walk with Mommy and Patches!\"'},\n",
       " 'output_str': '```json\\n{\\n    \"expanded_topic\": \"Getting Ready for a Walk with Mommy\",\\n    \"generated_text\": \"Mommy was getting ready to go for a walk! Leo watched her. First, Mommy put on her shoes. \\\\\"Are you ready to go, Leo?\\\\\" she asked. Leo bounced up and down and clapped his hands. He loves walks! \\\\n\\\\nMommy smiled. “Okay, let’s find your hat.” She held up a blue hat. “Will this one work?” Leo shook his head. He pointed to the red hat on the chair. “Red!” he said happily. Mommy put the red hat on his head. It was a little big, but Leo didn’t mind. He giggled.\\\\n\\\\nNext, Mommy looked for her scarf. “It’s chilly today,” she said. She wrapped the scarf around her neck. Then she reached for something else. It was her coat!  She held it up. “Hmm, is this the right color?” she asked, showing Leo the purple coat. Leo looked carefully. He tilted his head and then pointed to a different coat. It was blue! Mommy laughed. “You are right! The blue coat is perfect.”\\\\n\\\\nShe put on the blue coat and zipped it up. She then looked at Leo. \\\\\"Do *you* need a coat?\\\\\" Leo nodded excitedly. Mommy helped him put on his little yellow coat. She zipped it up too.\\\\n\\\\n“All set!” Mommy said. She picked up the leash for the dog, Patches. Patches wagged his tail and barked happily. Leo pointed at Patches and said, “Walkies!” Mommy smiled and said, “Yes, walkies! We’re all ready for our walk now.” She looked at Leo and asked, “Are *you* ready?\" Leo jumped and smiled very big, reaching for Mommy’s hand. He was so happy to go for a walk with Mommy and Patches!\"\\n}\\n```',\n",
       " 'correct_format': '{{\\n    \"expanded_topic\": \"<expanded topic>\",\\n    \"generated_text\": \"<generated text between 250 and 500 words>\"\\n}}',\n",
       " 'id': 'i0',\n",
       " 'indicator': 'Uses verbal and non-verbal signals appropriately to acknowledge the comments or questions of others.',\n",
       " 'skill': 'Language and Communication',\n",
       " 'subskill': 'Attending and Understanding',\n",
       " 'goal': 'Child attends to communication and language from others.',\n",
       " 'age_group': '0-5',\n",
       " 'stage': 0,\n",
       " 'context_template': 'Simple narrative retelling',\n",
       " 'word_list': ['jacket', 'Noun'],\n",
       " 'output_prev': '```json\\n{\\n    \"expanded_topic\": \"Getting Ready for a Walk with Mommy\",\\n    \"generated_text\": \"Mommy was getting ready to go for a walk! Leo watched her. First, Mommy put on her shoes. \\\\\"Are you ready to go, Leo?\\\\\" she asked. Leo bounced up and down and clapped his hands. He loves walks! \\\\n\\\\nMommy smiled. “Okay, let’s find your hat.” She held up a blue hat. “Will this one work?” Leo shook his head. He pointed to the red hat on the chair. “Red!” he said happily. Mommy put the red hat on his head. It was a little big, but Leo didn’t mind. He giggled.\\\\n\\\\nNext, Mommy looked for her scarf. “It’s chilly today,” she said. She wrapped the scarf around her neck. Then she reached for something else. It was her coat!  She held it up. “Hmm, is this the right color?” she asked, showing Leo the purple coat. Leo looked carefully. He tilted his head and then pointed to a different coat. It was blue! Mommy laughed. “You are right! The blue coat is perfect.”\\\\n\\\\nShe put on the blue coat and zipped it up. She then looked at Leo. \\\\\"Do *you* need a coat?\\\\\" Leo nodded excitedly. Mommy helped him put on his little yellow coat. She zipped it up too.\\\\n\\\\n“All set!” Mommy said. She picked up the leash for the dog, Patches. Patches wagged his tail and barked happily. Leo pointed at Patches and said, “Walkies!” Mommy smiled and said, “Yes, walkies! We’re all ready for our walk now.” She looked at Leo and asked, “Are *you* ready?\" Leo jumped and smiled very big, reaching for Mommy’s hand. He was so happy to go for a walk with Mommy and Patches!\"\\n}\\n```'}"
      ]
     },
     "execution_count": 35,
     "metadata": {},
     "output_type": "execute_result"
    }
   ],
   "source": [
    "s0_b0[0]"
   ]
  },
  {
   "cell_type": "code",
   "execution_count": 36,
   "id": "835862fc",
   "metadata": {},
   "outputs": [],
   "source": [
    "c = 0\n",
    "for i in range(len(s0_b0)):\n",
    "    if s0_b0[i]['output'][\"expanded_topic\"] is None or s0_b0[i]['output'][\"generated_text\"] is None:\n",
    "        c+=1"
   ]
  },
  {
   "cell_type": "code",
   "execution_count": 37,
   "id": "64a5ce72",
   "metadata": {},
   "outputs": [
    {
     "name": "stdout",
     "output_type": "stream",
     "text": [
      "0\n"
     ]
    }
   ],
   "source": [
    "print(c)"
   ]
  },
  {
   "cell_type": "code",
   "execution_count": 38,
   "id": "92c6504b",
   "metadata": {},
   "outputs": [
    {
     "name": "stdout",
     "output_type": "stream",
     "text": [
      "3006990\n"
     ]
    }
   ],
   "source": [
    "corrected_list = s0_g0 + s0_b0\n",
    "with open(\"/datadrive/pavan/az_storage/data_unorganized/stages/stage0/raw/context/good_list.jsonl\", \"r\") as f:\n",
    "    good_list = json.load(f)\n",
    "all_data = good_list + corrected_list\n",
    "print(len(all_data))"
   ]
  },
  {
   "cell_type": "code",
   "execution_count": 40,
   "id": "3d52b3e3",
   "metadata": {},
   "outputs": [],
   "source": [
    "with open(\"/datadrive/pavan/az_storage/data_unorganized/stages/stage0/raw/context/all_data.jsonl\", \"w\") as f:\n",
    "    json.dump(all_data, f, indent=4)"
   ]
  },
  {
   "cell_type": "code",
   "execution_count": 1,
   "id": "3e93ebf0",
   "metadata": {},
   "outputs": [
    {
     "name": "stdout",
     "output_type": "stream",
     "text": [
      "########################################\n"
     ]
    }
   ],
   "source": [
    "print(\"#\"*40)"
   ]
  },
  {
   "cell_type": "markdown",
   "id": "760171f3",
   "metadata": {},
   "source": [
    "## Context"
   ]
  },
  {
   "cell_type": "code",
   "execution_count": 111,
   "id": "1d151f58",
   "metadata": {},
   "outputs": [],
   "source": [
    "with open('/datadrive/pavan/az_storage/data_unorganized/seed_data/raw/c_2_seed.jsonl', 'r') as file:\n",
    "    data = json.load(file)"
   ]
  },
  {
   "cell_type": "code",
   "execution_count": 112,
   "id": "9b86e9a9",
   "metadata": {},
   "outputs": [
    {
     "data": {
      "text/plain": [
       "527700"
      ]
     },
     "execution_count": 112,
     "metadata": {},
     "output_type": "execute_result"
    }
   ],
   "source": [
    "# verify the number of samples in the data\n",
    "len(data)"
   ]
  },
  {
   "cell_type": "code",
   "execution_count": 113,
   "id": "5729521a",
   "metadata": {},
   "outputs": [],
   "source": [
    "data =[o for o in data if isinstance(o, dict)]"
   ]
  },
  {
   "cell_type": "code",
   "execution_count": 114,
   "id": "bb89b850",
   "metadata": {},
   "outputs": [
    {
     "name": "stdout",
     "output_type": "stream",
     "text": [
      "503696 24004\n"
     ]
    }
   ],
   "source": [
    "good_data = [o for o in data if isinstance(o['output'], dict)]\n",
    "bad_data = [o for o in data if not isinstance(o['output'], dict)]\n",
    "print(len(good_data), len(bad_data))"
   ]
  },
  {
   "cell_type": "code",
   "execution_count": 115,
   "id": "45a86307",
   "metadata": {},
   "outputs": [
    {
     "data": {
      "text/plain": [
       "{'output': '```json\\n{\\n    \"selected_word\": \"megaphone\",\\n    \"selected_word_pos\": \"Noun\",\\n    \"expanded_topic\": \"Describing the items needed for a school fair and how they are used, focusing on clear descriptions and punctuation to aid understanding.\",\\n    \"generated_text\": \"Our school is having a fair! It’s going to be so much fun. We need lots of things to make it work. Let’s make a list!\\n\\nFirst, we need tables. Big, strong tables to sell all our yummy treats and cool toys. They need to be covered with bright, colorful cloths! Without tables, where would we put everything?\\n\\nNext, we need a **megaphone**! Mr. Peterson, the principal, will use it to tell everyone important things, like when the raffle will start. He’ll say, “Attention, everyone! The raffle will begin in five minutes!” A megaphone helps his voice travel far. It\\'s red and a little bit scratchy when he speaks into it, but everyone can hear!\\n\\nThen, we’ll need balloons. Lots and lots of balloons! Red balloons, blue balloons, yellow balloons, and even sparkly gold balloons. They\\'ll make the fair look so festive. Each balloon needs string, so they don\\'t float away. Imagine chasing a balloon – that would be silly!\\n\\nWe’ll have a game booth with beanbags and targets. The targets are painted with funny faces. If you throw a beanbag and hit the target, you win a prize! There\\'s a big, bright box full of prizes, like stickers and small toys.\\n\\nDon\\'t forget the signs! We need signs to tell people where to find everything. “Face Painting – This Way!” and “Raffle Tickets Here!” Each sign needs to be clear and easy to read. My sister, Lily, is making beautiful signs with glitter and colorful markers. She uses lots of commas to separate the details! For example: “Baked Goods, including cookies, brownies, and cupcakes!” \\n\\nFinally, we\\'ll need a cash box to keep the money safe. Mrs. Davis will be in charge of the money. She\\'s very good at counting and making sure everything is correct.\\n\\nThe fair is going to be amazing! We need everything to be just right, and with good planning and clear signs, it will be a wonderful day for everyone. I’m especially excited to hear Mr. Peterson shout through the megaphone!\"\\n}\\n```',\n",
       " 'id': 'i563',\n",
       " 'indicator': 'Use punctuation effectively to clarify meaning in complex sentences.',\n",
       " 'skill': 'English',\n",
       " 'subskill': 'Writing',\n",
       " 'goal': 'Grammar and punctuation Learners develop accurate use of grammar and punctuation in Standard English; they use grammar and punctuation to shape their writing for purpose and effect.',\n",
       " 'age_group': '5-11',\n",
       " 'stage': 6,\n",
       " 'context_template': 'Descriptive list compilation',\n",
       " 'word_list': [['mid', 'Adjective'],\n",
       "  ['mechanism', 'Noun'],\n",
       "  ['medallion', 'Noun'],\n",
       "  ['medicate', 'Verb'],\n",
       "  ['meditation', 'Noun'],\n",
       "  ['megaphone', 'Noun'],\n",
       "  ['meltdown', 'Noun'],\n",
       "  ['membrane', 'Noun'],\n",
       "  ['menacing', 'Adjective'],\n",
       "  ['menstrual', 'Adjective']]}"
      ]
     },
     "execution_count": 115,
     "metadata": {},
     "output_type": "execute_result"
    }
   ],
   "source": [
    "bad_data[0]"
   ]
  },
  {
   "cell_type": "code",
   "execution_count": 116,
   "id": "e3090080",
   "metadata": {},
   "outputs": [],
   "source": [
    "import re\n",
    "\n",
    "# Define the patterns for each field\n",
    "PAT_SELECTED_WORD = re.compile(r'\"selected_word\":\\s*\"([^\"]*)\"')\n",
    "PAT_SELECTED_POS = re.compile(r'\"selected_word_pos\":\\s*\"([^\"]*)\"')\n",
    "PAT_TOPIC = re.compile(r'\"expanded_topic\":\\s*\"([^\"]*)\"')\n",
    "\n",
    "def extract_fields_from_bad_string(text):\n",
    "    try:\n",
    "        # Extract the fields with regex\n",
    "        fields = {\n",
    "            \"selected_word\": PAT_SELECTED_WORD.search(text).group(1),\n",
    "            \"selected_word_pos\": PAT_SELECTED_POS.search(text).group(1),\n",
    "            \"expanded_topic\": PAT_TOPIC.search(text).group(1),\n",
    "        }\n",
    "        \n",
    "        # Simple approach: Find the position after \"generated_text\": \" \n",
    "        start_marker = '\"generated_text\": \"'\n",
    "        start_index = text.find(start_marker)\n",
    "        \n",
    "        if start_index != -1:\n",
    "            # Position after the opening quote\n",
    "            content_start = start_index + len(start_marker)\n",
    "            \n",
    "            \n",
    "            # Look for the last quote before the closing brace of the JSON\n",
    "            end_index = text.rfind('\"', content_start, text.rfind('}'))\n",
    "            \n",
    "            if end_index != -1:\n",
    "                generated_text = text[content_start:end_index]\n",
    "                # Replace escaped characters\n",
    "                fields[\"generated_text\"] = generated_text.replace('\\\\n', '\\n').replace('\\\\\"', '\"').replace('\\\\\\'', \"'\")\n",
    "                return fields\n",
    "            else:\n",
    "                end_index = text.rfind('}')\n",
    "                generated_text = text[content_start:end_index]\n",
    "                fields[\"generated_text\"] = generated_text.replace('\\\\n', '\\n').replace('\\\\\"', '\"').replace('\\\\\\'', \"'\")\n",
    "                return fields\n",
    "\n",
    "        \n",
    "        print(\"Could not extract generated_text field\")\n",
    "        return None\n",
    "            \n",
    "    except AttributeError as e:\n",
    "        print(f\"Error extracting fields: {e}\")\n",
    "        return None\n"
   ]
  },
  {
   "cell_type": "code",
   "execution_count": 120,
   "id": "a5d16d29",
   "metadata": {},
   "outputs": [
    {
     "name": "stderr",
     "output_type": "stream",
     "text": [
      "100%|██████████| 24004/24004 [00:00<00:00, 119525.40it/s]"
     ]
    },
    {
     "name": "stdout",
     "output_type": "stream",
     "text": [
      "Error extracting fields: 'NoneType' object has no attribute 'group'\n",
      "Error extracting fields: 'NoneType' object has no attribute 'group'\n",
      "Error extracting fields: 'NoneType' object has no attribute 'group'\n",
      "Error extracting fields: 'NoneType' object has no attribute 'group'\n",
      "Error extracting fields: 'NoneType' object has no attribute 'group'\n",
      "Error extracting fields: 'NoneType' object has no attribute 'group'\n"
     ]
    },
    {
     "name": "stderr",
     "output_type": "stream",
     "text": [
      "\n"
     ]
    }
   ],
   "source": [
    "unparse_data = []\n",
    "parse_data = []\n",
    "\n",
    "for s in tqdm(bad_data):\n",
    "    entry = extract_fields_from_bad_string(s['output'])\n",
    "    if entry:\n",
    "        s['output'] = entry\n",
    "        parse_data.append(s)\n",
    "    else:\n",
    "        unparse_data.append(s)"
   ]
  },
  {
   "cell_type": "code",
   "execution_count": 140,
   "id": "e3887f6b",
   "metadata": {},
   "outputs": [
    {
     "name": "stdout",
     "output_type": "stream",
     "text": [
      "527694 0\n"
     ]
    }
   ],
   "source": [
    "v_data = parse_data + good_data\n",
    "va_data = [o for o in v_data if isinstance(o['output'], dict)]\n",
    "inva_data = [o for o in v_data if not isinstance(o['output'], dict)]\n",
    "print(len(va_data), len(inva_data))"
   ]
  },
  {
   "cell_type": "code",
   "execution_count": 141,
   "id": "46ff0d03",
   "metadata": {},
   "outputs": [
    {
     "name": "stdout",
     "output_type": "stream",
     "text": [
      "527626 68\n",
      "527291 335\n",
      "527241 50\n",
      "526821 420\n"
     ]
    }
   ],
   "source": [
    "def get_words(tuple_list):\n",
    "    return [item[0] for item in tuple_list]\n",
    "\n",
    "def get_pos(tuple_list):\n",
    "    return [item[1] for item in tuple_list]\n",
    "\n",
    "valid_data = [o for o in va_data if 'selected_word' in o['output']]\n",
    "invalid_data = [o for o in va_data if 'selected_word' not in o['output']]\n",
    "print(len(valid_data), len(invalid_data))\n",
    "va_data = valid_data\n",
    "valid_data = [o for o in va_data if o['output']['selected_word'] in get_words(o['word_list'])]\n",
    "invalid_data = [o for o in va_data if o['output']['selected_word'] not in get_words(o['word_list'])]\n",
    "print(len(valid_data), len(invalid_data))\n",
    "va_data = valid_data\n",
    "valid_data = [o for o in va_data if 'selected_word_pos' in o['output']]\n",
    "invalid_data = [o for o in va_data if 'selected_word_pos' not in o['output']]\n",
    "print(len(valid_data), len(invalid_data))\n",
    "va_data = valid_data\n",
    "valid_data = [o for o in va_data if o['output']['selected_word_pos'] in get_pos(o['word_list'])]\n",
    "invalid_data = [o for o in va_data if o['output']['selected_word_pos'] not in get_pos(o['word_list'])]\n",
    "print(len(valid_data), len(invalid_data))\n",
    "va_data = valid_data"
   ]
  },
  {
   "cell_type": "code",
   "execution_count": 139,
   "id": "83c476ed",
   "metadata": {},
   "outputs": [
    {
     "data": {
      "text/plain": [
       "{'output': {'selected_word': 'copy',\n",
       "  'selected_word_pos': ' ',\n",
       "  'expanded_topic': 'Comparing how different animals learn by copying others to help them survive – focusing on birds and their song.',\n",
       "  'generated_text': \"Have you ever heard a bird sing a beautiful song? Sometimes, those songs aren’t made up! Some birds *learn* songs by listening to their parents and other birds. It's like a game of copycat!\\n\\nOld Man Fitzwilliam, the birdwatcher, showed us two kinds of birds today. First, we saw a robin. He explained robins usually sing the same songs, just like their dads. Baby robins listen very carefully and try to copy the sounds. If they don’t quite get it right at first, they keep practicing! It’s how they learn to talk to other robins. Old Man Fitzwilliam said it’s like learning to tie your shoes – you copy what someone else does, and then you practice and practice.\\n\\nThen, we saw a mockingbird. These birds are *amazing*! They don't just copy their parents. They copy *lots* of other birds! Old Man Fitzwilliam played a recording of a cat meowing, and the mockingbird immediately tried to copy it! He also played a car alarm, and the mockingbird tried to copy that too! It sounded a little silly, but it showed us how clever they are.\\n\\nSo, robins mostly copy their dads to learn *their* song. It's important for them to fit in with other robins. Mockingbirds, though, copy everyone! They make up their *own* songs from all the sounds around them. Old Man Fitzwilliam said this helps them attract more friends and even confuse other birds, which can keep them safe.\\n\\nBoth robins and mockingbirds copy sounds, but they do it for different reasons. Robins copy to learn, and mockingbirds copy to be creative and maybe even trick others! It's really cool how animals learn, isn’t it? Old Man Fitzwilliam gave us a list of words to help us remember: 'copy', 'learn', 'robin', 'mockingbird', 'song' and 'sounds'. He said those are the important things to remember about how these birds learn.\"},\n",
       " 'id': 'i639',\n",
       " 'indicator': 'Record key information drawn from a non-fiction text, e.g. listing key topic words.',\n",
       " 'skill': 'English',\n",
       " 'subskill': 'Writing',\n",
       " 'goal': \"Presentation and reflection Learners develop skills in choosing and using appropriate ways to present different texts; they reflect on and evaluate their own and others' writing.\",\n",
       " 'age_group': '5-11',\n",
       " 'stage': 2,\n",
       " 'context_template': 'Simple comparative analysis',\n",
       " 'word_list': [['copycat', 'Noun'],\n",
       "  ['copy', 'Verb'],\n",
       "  ['cooler', 'Noun'],\n",
       "  ['cooker', 'Noun'],\n",
       "  ['container', 'Noun'],\n",
       "  ['consequence', 'Noun'],\n",
       "  ['confusing', 'Adjective'],\n",
       "  ['confuse', 'Verb'],\n",
       "  ['complete', 'Adjective'],\n",
       "  ['compete', 'Verb']]}"
      ]
     },
     "execution_count": 139,
     "metadata": {},
     "output_type": "execute_result"
    }
   ],
   "source": [
    "invalid_data[1]"
   ]
  },
  {
   "cell_type": "code",
   "execution_count": null,
   "id": "0cfe27e6",
   "metadata": {},
   "outputs": [],
   "source": []
  },
  {
   "cell_type": "markdown",
   "id": "3338341e",
   "metadata": {},
   "source": [
    "## Stage 1"
   ]
  },
  {
   "cell_type": "code",
   "execution_count": 1,
   "id": "d758dcc9",
   "metadata": {},
   "outputs": [
    {
     "name": "stderr",
     "output_type": "stream",
     "text": [
      "100%|██████████| 10/10 [00:51<00:00,  5.15s/it]\n"
     ]
    },
    {
     "name": "stdout",
     "output_type": "stream",
     "text": [
      "Total samples:  4038196\n",
      "Total number of text snippets:  4038196\n",
      "Total samples:  4038196\n",
      "Good samples:  3890507\n",
      "Bad samples:  147689\n",
      "{'output': '```json\\n{\\n    \"expanded_topic\": \"Describing a beach scene and identifying objects starting with different letters of the alphabet.\",\\n    \"generated_text\": \"The beach was sunny and warm! Leo and Mia were building a big sandcastle. The sand felt soft and cool between their toes. They looked all around at everything they could see. \\\\n\\\\n\\\\\"Look!\\\\\" shouted Leo, pointing. \\\\\"An **a**nc**h**or! I see an anchor on that boat way out in the water!\\\\\" Mia giggled. \\\\n\\\\nShe pointed too. “And there’s a **b**ucket! We need a bucket to carry more water for our castle!” \\\\n\\\\nThey walked along the shore, their eyes scanning the sand. Leo picked up a shiny **c**onch shell. “Wow! This shell is pink inside!”\\\\n\\\\nMia found a beautiful, smooth **d**riftwood piece. \\\\\"This will be the tower of our castle!\\\\\" she said, carefully placing it on top of the wet sand.\\\\n\\\\nSuddenly, Leo bent down and picked up a small, grey stone. “A **p**ebble!” he exclaimed. “It’s a little grey pebble. It feels smooth!\\\\” He added it to the wall of their castle.\\\\n\\\\nMia spotted something flapping in the breeze. \\\\\"An **e**agle! Look, an eagle is flying so high in the sky!\\\\\"\\\\n\\\\nThey continued their hunt, finding a **f**lag waving on the lifeguard stand, and a **g**ull swooping down to catch a fish. Leo even found a little **h**at someone had left behind. They pretended it was a crown for the sandcastle king!\\\\n\\\\nBuilding the castle and finding things was so much fun. They laughed and splashed, feeling happy to be at the beach. Each thing they found reminded them of a letter, and each letter had a special sound. The beach was a wonderful place to play and learn!\"\\n}\\n```', 'id': 'i182', 'indicator': 'Know the name of each letter in the English alphabet and the most common sound (phoneme) associated with it. ', 'skill': 'English', 'subskill': 'Reading', 'goal': 'Word structure (phonics) (Stages 1 to 4 only) Learners develop the decoding skills that form the foundation of reading for all stages.', 'age_group': '5-11', 'stage': 1, 'context_template': 'Descriptive scene setting', 'word_list': ['pebble', 'Noun']}\n",
      "{'expanded_topic': '<expanded topic>', 'generated_text': '<generated text between 250 and 500 words>'}\n",
      "Total samples:  3890507\n",
      "Good samples:  3889935\n",
      "Bad samples:  572\n",
      "Total number of bad samples:  147689\n"
     ]
    }
   ],
   "source": [
    "import json\n",
    "import re\n",
    "from tqdm import tqdm\n",
    "\n",
    "def load_data(metadata_path, seed=False):\n",
    "    with open(metadata_path, \"r\") as f:\n",
    "        metadata = json.load(f)\n",
    "    num_files = len(metadata)\n",
    "    data = []\n",
    "    for i in tqdm(range(num_files)):\n",
    "        file_name = f\"chunk_{i}.jsonl\"\n",
    "        chunk_path = \"/\".join(metadata_path.split(\"/\")[:-1] + [file_name]).replace(\"seed\", \"raw\")\n",
    "        # print(chunk_path)\n",
    "        with open(chunk_path, \"r\") as f:\n",
    "            chunk_data = json.load(f)\n",
    "            # print(len(chunk_data))\n",
    "        data.extend(chunk_data)\n",
    "    print(\"Total samples: \",len(data))\n",
    "    return data\n",
    "\n",
    "def output_dict_check(data_list):\n",
    "    good_list = [o for o in data_list if isinstance(o['output'], dict)]\n",
    "    bad_list = [o for o in data_list if not isinstance(o['output'], dict)]\n",
    "    print(\"Total samples: \",len(data_list))\n",
    "    print(\"Good samples: \",len(good_list))\n",
    "    print(\"Bad samples: \",len(bad_list))\n",
    "    return good_list, bad_list\n",
    "\n",
    "def extract_json_from_string(text):\n",
    "    # Use regex to extract the JSON block between ```json and ```\n",
    "    match = re.search(r\"```json\\n({.*?})\\n```\", text, re.DOTALL)\n",
    "    if not match:\n",
    "        raise ValueError(\"No valid JSON block found in the input string.\")\n",
    "    \n",
    "    json_str = match.group(1)\n",
    "    json_str = json_str.replace(\"{{\", \"{\")\n",
    "    json_str = json_str.replace(\"}}\", \"}\")\n",
    "\n",
    "    # Parse the JSON string\n",
    "    try:\n",
    "        data = json.loads(json_str)\n",
    "        return data\n",
    "    except json.JSONDecodeError as e:\n",
    "        raise ValueError(f\"Invalid JSON format: {e}\")\n",
    "\n",
    "def validate_instruction_response(dict_instance, output_format):\n",
    "    required_keys = {}\n",
    "    for k in output_format:\n",
    "        required_keys[k] = type(output_format[k])\n",
    "    for key, expected_type in required_keys.items():\n",
    "        if key not in dict_instance:\n",
    "            return False\n",
    "    return True\n",
    "\n",
    "def check_json_struct(data_list, prompt_path):\n",
    "    with open(prompt_path, \"r\") as f:\n",
    "        prompt = json.load(f)\n",
    "    output_format = extract_json_from_string(prompt['user'])\n",
    "    print(output_format)\n",
    "    good_list = [o for o in data_list if validate_instruction_response(o['output'], output_format)]\n",
    "    bad_list = [o for o in data_list if not validate_instruction_response(o['output'], output_format)]\n",
    "    print(\"Total samples: \",len(data_list))\n",
    "    print(\"Good samples: \",len(good_list))\n",
    "    print(\"Bad samples: \",len(bad_list))\n",
    "    return good_list, bad_list\n",
    "\n",
    "def extract_key_values(s, keys):\n",
    "    entry = {}\n",
    "    for i, key in enumerate(keys):\n",
    "        # Regex pattern: look for \"key\": and capture everything until the next key or end\n",
    "        pattern = rf'\"{key}\"\\s*:\\s*(.*?)\\s*(?=\"{keys[i+1]}\"\\s*:|$)' if i + 1 < len(keys) else rf'\"{key}\"\\s*:\\s*(.*)'\n",
    "        match = re.search(pattern, s, re.DOTALL)\n",
    "        if match:\n",
    "            value = match.group(1).strip().strip('\",')\n",
    "            entry[key] = value.strip(\"```\").strip(\"\\n\").strip(\"}\").strip(\"\\n\")\n",
    "        else:\n",
    "            entry[key] = None\n",
    "    return entry\n",
    "\n",
    "def fix_text(bad_list):\n",
    "    for i in range(len(bad_list)):\n",
    "        bad_list[i]['output'] = extract_key_values(bad_list[i]['output'], [\"expanded_topic\", \"generated_text\"])\n",
    "    return bad_list\n",
    "\n",
    "stage = 1\n",
    "metadata_path = f\"/datadrive/pavan/az_storage/data_unorganized/stages/stage{stage}/seed/context/metadata_chunks.jsonl\"\n",
    "prompt_path = f\"/datadrive/pavan/az_storage/data_unorganized/stages/stage{stage}/seed/context/prompt.json\"\n",
    "\n",
    "data = load_data(metadata_path)\n",
    "print(\"Total number of text snippets: \", len(data))\n",
    "\n",
    "g0, b0 = output_dict_check(data)\n",
    "\n",
    "print(b0[0])\n",
    "\n",
    "g1, b1 = check_json_struct(g0, prompt_path)\n",
    "\n",
    "bad_list = b0\n",
    "print(\"Total number of bad samples: \", len(bad_list))\n",
    "\n",
    "bad_list = fix_text(bad_list)\n"
   ]
  },
  {
   "cell_type": "code",
   "execution_count": 3,
   "id": "17f246f8",
   "metadata": {},
   "outputs": [],
   "source": [
    "for i in range(len(b1)):\n",
    "    output_new = {}\n",
    "    for k in b1[i]['output'].keys():\n",
    "        key_name = k.lower()\n",
    "        if \"expanded\" in key_name or \"topic\" in key_name:\n",
    "            output_new[\"expanded_topic\"] = b1[i]['output'][k]\n",
    "        if \"generated\" in key_name or \"text\" in key_name:\n",
    "            output_new[\"generated_text\"] = b1[i]['output'][k]\n",
    "    b1[i]['output'] = output_new"
   ]
  },
  {
   "cell_type": "code",
   "execution_count": 4,
   "id": "99d6b68d",
   "metadata": {},
   "outputs": [
    {
     "name": "stdout",
     "output_type": "stream",
     "text": [
      "Total samples:  572\n",
      "Good samples:  572\n",
      "Bad samples:  0\n"
     ]
    }
   ],
   "source": [
    "a, b = output_dict_check(b1)"
   ]
  },
  {
   "cell_type": "code",
   "execution_count": 5,
   "id": "11b09904",
   "metadata": {},
   "outputs": [
    {
     "name": "stdout",
     "output_type": "stream",
     "text": [
      "{'expanded_topic': '<expanded topic>', 'generated_text': '<generated text between 250 and 500 words>'}\n",
      "Total samples:  572\n",
      "Good samples:  572\n",
      "Bad samples:  0\n"
     ]
    }
   ],
   "source": [
    "a, b = check_json_struct(a, prompt_path)"
   ]
  },
  {
   "cell_type": "code",
   "execution_count": null,
   "id": "8e18ffb7",
   "metadata": {},
   "outputs": [],
   "source": []
  }
 ],
 "metadata": {
  "kernelspec": {
   "display_name": "cl_env",
   "language": "python",
   "name": "python3"
  },
  "language_info": {
   "codemirror_mode": {
    "name": "ipython",
    "version": 3
   },
   "file_extension": ".py",
   "mimetype": "text/x-python",
   "name": "python",
   "nbconvert_exporter": "python",
   "pygments_lexer": "ipython3",
   "version": "3.12.8"
  }
 },
 "nbformat": 4,
 "nbformat_minor": 5
}
